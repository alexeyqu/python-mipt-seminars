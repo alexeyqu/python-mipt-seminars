{
 "cells": [
  {
   "cell_type": "markdown",
   "metadata": {},
   "source": [
    "# Web & Scraping\n",
    "\n",
    "Requires: urllib, requests, socket, urllib3, re, lxml, io, bs4, scrapy, sqlite3, pandas.\n",
    "\n",
    "План:\n",
    "* 101 101\n",
    "* HTML 101\n",
    "* HTTP + REST 101\n",
    "* Web scraping"
   ]
  },
  {
   "cell_type": "markdown",
   "metadata": {},
   "source": [
    "Заметка на полях:\n",
    "# 101 101\n",
    "\n",
    "В американской системе образования курсы имеют индекс, например, [CS101](https://lagunita.stanford.edu/courses/Engineering/CS101/Summer2014/about).\n",
    "\n",
    "101 -- это вводный курс в какую-то тему, просто так повелось. Intro.\n"
   ]
  },
  {
   "cell_type": "markdown",
   "metadata": {},
   "source": [
    "# HTML 101\n",
    "\n",
    "HyperText Markup Language\n",
    "\n",
    "HTML -- язык разметки, который используется для web-страниц.\n",
    "\n",
    "Это механизм для получения структурного текста, который понимают браузеры.\n",
    "\n",
    "Структура в тексте задаётся вложенными тегами, теги определяют то, как текст будет показан (отрендерен).\n",
    "\n",
    "Это тег: `<тег>`, теги бывают открывающими (`<тег>`) и закрывающими (`</тег>`).\n",
    "\n",
    "Пример HTML-разметки:\n",
    "\n",
    "```html\n",
    "<!DOCTYPE html>\n",
    "<html>\n",
    "   <head>\n",
    "      <meta charset=\"utf-8\" />\n",
    "      <title>HTML Document</title>\n",
    "   </head>\n",
    "   <body>\n",
    "      <p> <!-- p -- это параграф, а в такие странные скобки заключается комментарий -->\n",
    "         <b>\n",
    "            Этот текст будет полужирным, <i>а этот — ещё и курсивным</i>.\n",
    "         </b>\n",
    "      </p>\n",
    "   </body>\n",
    "</html>\n",
    "```\n",
    "\n",
    "Так он выглядит после рендеринга:\n",
    "\n",
    "<!DOCTYPE html>\n",
    "<html>\n",
    "   <head>\n",
    "      <meta charset=\"utf-8\" />\n",
    "      <title>HTML Document</title>\n",
    "   </head>\n",
    "   <body>\n",
    "      <p> <!-- p -- это параграф, а в такие странные скобки заключается комментарий -->\n",
    "         <b>\n",
    "            Этот текст будет полужирным, <i>а этот — ещё и курсивным</i>.\n",
    "         </b>\n",
    "      </p>\n",
    "   </body>\n",
    "</html>\n",
    "\n",
    "Видно, что HTML-разметка имеет древовидную структуру:<br>\n",
    "каждый тег (вершина дерева) имеет 0 (тогда это лист дерева) или больше (тогда это внутренняя вершина) вложенных в него тегов.\n",
    "\n",
    "Значит, чтобы доставать из HTML какую-то информацию, можно использовать его структуру.\n",
    "\n",
    "Мы этим займёмся чуть позже.\n",
    "\n",
    "### P.S. \n",
    "На самом деле, такую же структуру имеет и формат XML (другой язык разметки).\n",
    "\n",
    "Формально, HTML -- это более стандартизированное подмножество XML.\n",
    "\n",
    "### P.P.S.\n",
    "\n",
    "А ещё у тегов бывают **атрибуты**:\n",
    "\n",
    "```html\n",
    "<a href=\"http://example.com\">Ссылка на example.com</a>\n",
    "```\n",
    "Отрендерим это кусок:\n",
    "<a href=\"http://example.com\">Ссылка на example.com</a>\n",
    "\n",
    "### P.P.P.S.\n",
    "\n",
    "А этот текст (безусловно, имеющий структуру), был написан с помощью другого языка разметки -- **Markdown**."
   ]
  },
  {
   "cell_type": "markdown",
   "metadata": {},
   "source": [
    "# TCP/IP\n",
    "\n",
    "## HTTP 101\n",
    "\n",
    "HyperText Transfer Protocol\n",
    "\n",
    "Протокол передачи гипертекста:\n",
    "* **Протокол** -- набор логических соглашений о взаимодействии программ, стандарт;\n",
    "* **передача** -- мы живём в интернете, т.е. мир не ограничивается нашим компьютером => информацию надо передавать;\n",
    "* **гипертекст** -- HTML, например.\n",
    "\n",
    "Основная идея: все компьютеры делятся на **сервера** (те, что хранят информацию) и **клиенты** (те, что запрашивают её).\n",
    "\n",
    "На самом деле, в HTTP мы передаём не только гипертекст, а **ресурсы** -- философское обобщение, куда попадает и гипертекст, и картинки, и музыка и т.д. Но стандарт подходит для всего этого.\n",
    "\n",
    "Каждый ресурс имеет адрес -- **URI** (Uniform Resource Identifier) -- аналог пути в системе компьютера.\n",
    "\n",
    "Не будем говорить про низкоуровневую сторону вопроса: стек TCP/IP, сокеты, порты и т.д.\n",
    "\n",
    "## Структура HTTP\n",
    "\n",
    "Чтобы получить данные, клиент делает запрос на сервер. В запросе должны быть 3 части:\n",
    "* Starting line -- определяет тип сообщения;\n",
    "* Headers -- характеризуют тело сообщения, параметры передачи и прочие сведения;\n",
    "* Message body -- непосредственно данные сообщения.\n",
    "\n",
    "Ответное сообщение от сервера имеет такую же структуру.\n",
    "\n",
    "Чтобы посылать эти запросы \"руками\", а не через браузер, можно использовать утилиту `curl`. Ей и воспользуемся."
   ]
  },
  {
   "cell_type": "code",
   "execution_count": 1,
   "metadata": {},
   "outputs": [
    {
     "name": "stdout",
     "output_type": "stream",
     "text": [
      "*   Trying 2606:2800:220:1:248:1893:25c8:1946...\n",
      "*   Trying 93.184.216.34...\n",
      "* Connected to example.com (2606:2800:220:1:248:1893:25c8:1946) port 80 (#0)\n",
      "> GET /index.html HTTP/1.1\n",
      "> Host: example.com\n",
      "> User-Agent: curl/7.47.0\n",
      "> Accept: */*\n",
      "> \n",
      "< HTTP/1.1 200 OK\n",
      "< Cache-Control: max-age=604800\n",
      "< Content-Type: text/html; charset=UTF-8\n",
      "< Date: Sun, 24 Mar 2019 21:20:24 GMT\n",
      "< Etag: \"1541025663+gzip+ident\"\n",
      "< Expires: Sun, 31 Mar 2019 21:20:24 GMT\n",
      "< Last-Modified: Fri, 09 Aug 2013 23:54:35 GMT\n",
      "< Server: ECS (bsa/EB1E)\n",
      "< Vary: Accept-Encoding\n",
      "< X-Cache: HIT\n",
      "< Content-Length: 1270\n",
      "< \n",
      "<!doctype html>\n",
      "<html>\n",
      "<head>\n",
      "    <title>Example Domain</title>\n",
      "\n",
      "    <meta charset=\"utf-8\" />\n",
      "    <meta http-equiv=\"Content-type\" content=\"text/html; charset=utf-8\" />\n",
      "    <meta name=\"viewport\" content=\"width=device-width, initial-scale=1\" />\n",
      "    <style type=\"text/css\">\n",
      "    body {\n",
      "        background-color: #f0f0f2;\n",
      "        margin: 0;\n",
      "        padding: 0;\n",
      "        font-family: \"Open Sans\", \"Helvetica Neue\", Helvetica, Arial, sans-serif;\n",
      "        \n",
      "    }\n",
      "    div {\n",
      "        width: 600px;\n",
      "        margin: 5em auto;\n",
      "        padding: 50px;\n",
      "        background-color: #fff;\n",
      "        border-radius: 1em;\n",
      "    }\n",
      "    a:link, a:visited {\n",
      "        color: #38488f;\n",
      "        text-decoration: none;\n",
      "    }\n",
      "    @media (max-width: 700px) {\n",
      "        body {\n",
      "            background-color: #fff;\n",
      "        }\n",
      "        div {\n",
      "            width: auto;\n",
      "            margin: 0 auto;\n",
      "            border-radius: 0;\n",
      "            padding: 1em;\n",
      "        }\n",
      "    }\n",
      "    </style>    \n",
      "</head>\n",
      "\n",
      "<body>\n",
      "<div>\n",
      "    <h1>Example Domain</h1>\n",
      "    <p>This domain is established to be used for illustrative examples in documents. You may use this\n",
      "    domain in examples without prior coordination or asking for permission.</p>\n",
      "    <p><a href=\"http://www.iana.org/domains/example\">More information...</a></p>\n",
      "</div>\n",
      "</body>\n",
      "</html>\n",
      "* Connection #0 to host example.com left intact\n"
     ]
    }
   ],
   "source": [
    "!curl example.com/index.html -v"
   ]
  },
  {
   "cell_type": "markdown",
   "metadata": {},
   "source": [
    "## Методы HTTP\n",
    "\n",
    "HTTP метод определяет операцию, которую мы хотим произвести над ресурсом.\n",
    "\n",
    "Самые частые методы: GET, POST, PUT, DELETE (но есть и другие).\n",
    "\n",
    "* **GET** -- запрос содержимого ресурса. <br>GET-запросы идемпотентны. Поэтому они могут кэшироваться.\n",
    "* **POST** -- передача данных на ресурс (например, при отправке комментария на форуме или вводе пароля на сайте). <br> Не идемпотентны => при отправке одного и того же комментария на форум он появится там дважды.  <br>Не кэшируются.\n",
    "* **PUT** -- передача данных в конкретный URI (изменение существующего ресурса). Не кэшируются.\n",
    "* **DELETE** -- удаление ресурса.\n",
    "\n",
    "## Коды HTTP\n",
    "\n",
    "В ответном сообщении придёт код ответа HTTP, который определяет результат выполнения операции.\n",
    "\n",
    "Самые частые коды: `200 OK`, `400 BadRequest`, `404 Not Found`, `500 Internal Server Error`.\n",
    "\n",
    "Общий обзор кодов:\n",
    "* **1xx** -- Informational. Информационные коды, например, `102 Processing` (запрос пока обрабатывается);\n",
    "* **2xx** -- Success. Успех. Всё хорошо, запрос отработал и ничего не сломал. По крайней мере, пока.\n",
    "* **3xx** -- Redirection. Перенаправление на другой ресурс/страницу.\n",
    "* **4xx** -- Client error. Ошибка клиента (неверные данные запроса или неправильный путь).\n",
    "* **5xx** -- Server error. Что-то сломалось на сервере (там поделили на ноль, например)."
   ]
  },
  {
   "cell_type": "markdown",
   "metadata": {},
   "source": [
    "## Разбор примера\n",
    "\n",
    "Давайте ещё раз посмотрим на запрос к example.com/index.html.\n",
    "\n",
    "Служебная информация от `curl`:\n",
    "\n",
    "```\n",
    "*   Trying 2606:2800:220:1:248:1893:25c8:1946...\n",
    "*   Trying 93.184.216.34...\n",
    "* Connected to example.com (2606:2800:220:1:248:1893:25c8:1946) port 80 (#0)\n",
    "```\n",
    "Запрос клиента:\n",
    "```\n",
    "> GET /index.html HTTP/1.1    # Starting line: метод GET, URI -- /index.html, версия протокола -- HTTP/1.1\n",
    "> Host: example.com           # Заголовки сообщения\n",
    "> User-Agent: curl/7.47.0\n",
    "> Accept: */*\n",
    ">                             # Пустое тело, т.к. мы ничего не передали на сервер.\n",
    "```\n",
    "\n",
    "Ответ сервера:\n",
    "```\n",
    "< HTTP/1.1 200 OK                          # Starting line: версия протокола и код ответа\n",
    "< Cache-Control: max-age=604800            # Заголовки ответа\n",
    "< Content-Type: text/html; charset=UTF-8\n",
    "< Date: Tue, 19 Mar 2019 21:25:21 GMT\n",
    "< Etag: \"1541025663+gzip+ident\"\n",
    "< Expires: Tue, 26 Mar 2019 21:25:21 GMT\n",
    "< Last-Modified: Fri, 09 Aug 2013 23:54:35 GMT\n",
    "< Server: ECS (bsa/EB1E)\n",
    "< Vary: Accept-Encoding\n",
    "< X-Cache: HIT\n",
    "< Content-Length: 1270\n",
    "<                                          # Пустая строка -- нужна по стандарту\n",
    "<!doctype html>                            # Тело ответа -- HTML-документ\n",
    "<html>\n",
    "<head>\n",
    "    <title>Example Domain</title>\n",
    ". . .\n",
    "```\n"
   ]
  },
  {
   "cell_type": "markdown",
   "metadata": {},
   "source": [
    "## REST\n",
    "\n",
    "Representational State Transfer \n",
    "\n",
    "Набор дополнительных ограничений на HTTP, указывающий, как правильно работать с методами, кодами и т.д.\n",
    "\n",
    "Можно назвать его аналогом pep для Питона."
   ]
  },
  {
   "cell_type": "markdown",
   "metadata": {},
   "source": [
    "# Web scraping. Практика!\n",
    "\n",
    "* Получение html\n",
    "* Парсинг html"
   ]
  },
  {
   "cell_type": "markdown",
   "metadata": {},
   "source": [
    "## Получение html\n",
    "\n",
    "Варианты инструментов:\n",
    "\n",
    "* urllib / urllib2\n",
    "* requests\n",
    "* socket (low-level)\n",
    "\n"
   ]
  },
  {
   "cell_type": "markdown",
   "metadata": {},
   "source": [
    "### urllib "
   ]
  },
  {
   "cell_type": "code",
   "execution_count": 1,
   "metadata": {},
   "outputs": [],
   "source": [
    "import urllib.request"
   ]
  },
  {
   "cell_type": "code",
   "execution_count": 2,
   "metadata": {
    "scrolled": true
   },
   "outputs": [
    {
     "name": "stdout",
     "output_type": "stream",
     "text": [
      "b'<!doctype html>\\n<html>\\n<head>\\n    <title>Example Domain</title>\\n\\n    <meta charset=\"utf-8\" />\\n    <meta http-equiv=\"Content-type\" content=\"text/html; charset=utf-8\" />\\n    <meta name=\"viewport\" content=\"width=device-width, initial-scale=1\" />\\n    <style type=\"text/css\">\\n    body {\\n        background-color: #f0f0f2;\\n        margin: 0;\\n        padding: 0;\\n        font-family: \"Open Sans\", \"Helvetica Neue\", Helvetica, Arial, sans-serif;\\n        \\n    }\\n    div {\\n        width: 600px;\\n        margin: 5em auto;\\n        padding: 50px;\\n        background-color: #fff;\\n        border-radius: 1em;\\n    }\\n    a:link, a:visited {\\n        color: #38488f;\\n        text-decoration: none;\\n    }\\n    @media (max-width: 700px) {\\n        body {\\n            background-color: #fff;\\n        }\\n        div {\\n            width: auto;\\n            margin: 0 auto;\\n            border-radius: 0;\\n            padding: 1em;\\n        }\\n    }\\n    </style>    \\n</head>\\n\\n<body>\\n<div>\\n    <h1>Example Domain</h1>\\n    <p>This domain is established to be used for illustrative examples in documents. You may use this\\n    domain in examples without prior coordination or asking for permission.</p>\\n    <p><a href=\"http://www.iana.org/domains/example\">More information...</a></p>\\n</div>\\n</body>\\n</html>\\n'\n"
     ]
    }
   ],
   "source": [
    "response = urllib.request.urlopen('http://example.com/')\n",
    "html = response.read()\n",
    "print(html)"
   ]
  },
  {
   "cell_type": "code",
   "execution_count": 3,
   "metadata": {},
   "outputs": [
    {
     "name": "stdout",
     "output_type": "stream",
     "text": [
      "<!doctype html>\n",
      "<html>\n",
      "<head>\n",
      "    <title>Example Domain</title>\n",
      "\n",
      "    <meta charset=\"utf-8\" />\n",
      "    <meta http-equiv=\"Content-type\" content=\"text/html; charset=utf-8\" />\n",
      "    <meta name=\"viewport\" content=\"width=device-width, initial-scale=1\" />\n",
      "    <style type=\"text/css\">\n",
      "    body {\n",
      "        background-color: #f0f0f2;\n",
      "        margin: 0;\n",
      "        padding: 0;\n",
      "        font-family: \"Open Sans\", \"Helvetica Neue\", Helvetica, Arial, sans-serif;\n",
      "        \n",
      "    }\n",
      "    div {\n",
      "        width: 600px;\n",
      "        margin: 5em auto;\n",
      "        padding: 50px;\n",
      "        background-color: #fff;\n",
      "        border-radius: 1em;\n",
      "    }\n",
      "    a:link, a:visited {\n",
      "        color: #38488f;\n",
      "        text-decoration: none;\n",
      "    }\n",
      "    @media (max-width: 700px) {\n",
      "        body {\n",
      "            background-color: #fff;\n",
      "        }\n",
      "        div {\n",
      "            width: auto;\n",
      "            margin: 0 auto;\n",
      "            border-radius: 0;\n",
      "            padding: 1em;\n",
      "        }\n",
      "    }\n",
      "    </style>    \n",
      "</head>\n",
      "\n",
      "<body>\n",
      "<div>\n",
      "    <h1>Example Domain</h1>\n",
      "    <p>This domain is established to be used for illustrative examples in documents. You may use this\n",
      "    domain in examples without prior coordination or asking for permission.</p>\n",
      "    <p><a href=\"http://www.iana.org/domains/example\">More information...</a></p>\n",
      "</div>\n",
      "</body>\n",
      "</html>\n",
      "\n"
     ]
    }
   ],
   "source": [
    "html = html.decode('utf-8')\n",
    "print(html)"
   ]
  },
  {
   "cell_type": "markdown",
   "metadata": {},
   "source": [
    "На всякий случай сохраним этот html, пригодится."
   ]
  },
  {
   "cell_type": "code",
   "execution_count": 4,
   "metadata": {},
   "outputs": [],
   "source": [
    "with open('example.com.txt', 'w', encoding='utf-8') as f:\n",
    "    f.write(html)"
   ]
  },
  {
   "cell_type": "markdown",
   "metadata": {},
   "source": [
    "А что, кроме html?"
   ]
  },
  {
   "cell_type": "code",
   "execution_count": 5,
   "metadata": {},
   "outputs": [
    {
     "name": "stdout",
     "output_type": "stream",
     "text": [
      "['__abstractmethods__', '__class__', '__del__', '__delattr__', '__dict__', '__dir__', '__doc__', '__enter__', '__eq__', '__exit__', '__format__', '__ge__', '__getattribute__', '__gt__', '__hash__', '__init__', '__iter__', '__le__', '__lt__', '__module__', '__ne__', '__new__', '__next__', '__reduce__', '__reduce_ex__', '__repr__', '__setattr__', '__sizeof__', '__str__', '__subclasshook__', '_abc_cache', '_abc_negative_cache', '_abc_negative_cache_version', '_abc_registry', '_checkClosed', '_checkReadable', '_checkSeekable', '_checkWritable', '_check_close', '_close_conn', '_get_chunk_left', '_method', '_peek_chunked', '_read1_chunked', '_read_and_discard_trailer', '_read_next_chunk_size', '_read_status', '_readall_chunked', '_readinto_chunked', '_safe_read', '_safe_readinto', 'begin', 'chunk_left', 'chunked', 'close', 'closed', 'code', 'debuglevel', 'detach', 'fileno', 'flush', 'fp', 'getcode', 'getheader', 'getheaders', 'geturl', 'headers', 'info', 'isatty', 'isclosed', 'length', 'msg', 'peek', 'read', 'read1', 'readable', 'readinto', 'readinto1', 'readline', 'readlines', 'reason', 'seek', 'seekable', 'status', 'tell', 'truncate', 'url', 'version', 'will_close', 'writable', 'write', 'writelines']\n"
     ]
    }
   ],
   "source": [
    "print(dir(response))"
   ]
  },
  {
   "cell_type": "markdown",
   "metadata": {},
   "source": [
    "Всё, что есть в HTTP-сообщении."
   ]
  },
  {
   "cell_type": "code",
   "execution_count": 6,
   "metadata": {},
   "outputs": [
    {
     "name": "stdout",
     "output_type": "stream",
     "text": [
      "http://example.com/\n",
      "OK\n",
      "200\n",
      "Заголовки: \n",
      "Accept-Ranges: bytes\n",
      "Cache-Control: max-age=604800\n",
      "Content-Type: text/html; charset=UTF-8\n",
      "Date: Mon, 25 Mar 2019 16:06:59 GMT\n",
      "Etag: \"1541025663\"\n",
      "Expires: Mon, 01 Apr 2019 16:06:59 GMT\n",
      "Last-Modified: Fri, 09 Aug 2013 23:54:35 GMT\n",
      "Server: ECS (bsa/EB21)\n",
      "Vary: Accept-Encoding\n",
      "X-Cache: HIT\n",
      "Content-Length: 1270\n",
      "Connection: close\n",
      "\n",
      "\n"
     ]
    }
   ],
   "source": [
    "print(response.url)\n",
    "print(response.msg)\n",
    "print(response.code)\n",
    "print('Заголовки: \\n{}'.format(response.headers))\n",
    "# . . ."
   ]
  },
  {
   "cell_type": "markdown",
   "metadata": {},
   "source": [
    "### requests\n",
    "HTTP for Humans"
   ]
  },
  {
   "cell_type": "code",
   "execution_count": 7,
   "metadata": {},
   "outputs": [],
   "source": [
    "import requests"
   ]
  },
  {
   "cell_type": "code",
   "execution_count": 8,
   "metadata": {},
   "outputs": [
    {
     "data": {
      "text/plain": [
       "<Response [200]>"
      ]
     },
     "execution_count": 8,
     "metadata": {},
     "output_type": "execute_result"
    }
   ],
   "source": [
    "response = requests.get('http://example.com')\n",
    "response"
   ]
  },
  {
   "cell_type": "code",
   "execution_count": 9,
   "metadata": {},
   "outputs": [
    {
     "name": "stdout",
     "output_type": "stream",
     "text": [
      "['__attrs__', '__bool__', '__class__', '__delattr__', '__dict__', '__dir__', '__doc__', '__enter__', '__eq__', '__exit__', '__format__', '__ge__', '__getattribute__', '__getstate__', '__gt__', '__hash__', '__init__', '__iter__', '__le__', '__lt__', '__module__', '__ne__', '__new__', '__nonzero__', '__reduce__', '__reduce_ex__', '__repr__', '__setattr__', '__setstate__', '__sizeof__', '__str__', '__subclasshook__', '__weakref__', '_content', '_content_consumed', '_next', 'apparent_encoding', 'close', 'connection', 'content', 'cookies', 'elapsed', 'encoding', 'headers', 'history', 'is_permanent_redirect', 'is_redirect', 'iter_content', 'iter_lines', 'json', 'links', 'next', 'ok', 'raise_for_status', 'raw', 'reason', 'request', 'status_code', 'text', 'url']\n"
     ]
    }
   ],
   "source": [
    "print(dir(response))"
   ]
  },
  {
   "cell_type": "code",
   "execution_count": 10,
   "metadata": {},
   "outputs": [
    {
     "name": "stdout",
     "output_type": "stream",
     "text": [
      "http://example.com/\n",
      "<requests.adapters.HTTPAdapter object at 0x7f36582b57b8>\n",
      "{'Content-Encoding': 'gzip', 'Cache-Control': 'max-age=604800', 'Etag': '\"1541025663\"', 'Content-Type': 'text/html; charset=UTF-8', 'Expires': 'Mon, 01 Apr 2019 16:10:25 GMT', 'Vary': 'Accept-Encoding', 'Date': 'Mon, 25 Mar 2019 16:10:25 GMT', 'Server': 'ECS (bsa/EB16)', 'Accept-Ranges': 'bytes', 'Content-Length': '606', 'X-Cache': 'HIT', 'Last-Modified': 'Fri, 09 Aug 2013 23:54:35 GMT'}\n",
      "True\n",
      "200\n",
      "UTF-8\n",
      "{}\n"
     ]
    }
   ],
   "source": [
    "print(response.url)\n",
    "print(response.connection)\n",
    "print(response.headers)\n",
    "print(response.ok)\n",
    "print(response.status_code)\n",
    "print(response.encoding)\n",
    "print(response.links)"
   ]
  },
  {
   "cell_type": "code",
   "execution_count": 11,
   "metadata": {},
   "outputs": [
    {
     "name": "stdout",
     "output_type": "stream",
     "text": [
      "<!doctype html>\n",
      "<html>\n",
      "<head>\n",
      "    <title>Example Domain</title>\n",
      "\n",
      "    <meta charset=\"utf-8\" />\n",
      "    <meta http-equiv=\"Content-type\" content=\"text/html; charset=utf-8\" />\n",
      "    <meta name=\"viewport\" content=\"width=device-width, initial-scale=1\" />\n",
      "    <style type=\"text/css\">\n",
      "    body {\n",
      "        background-color: #f0f0f2;\n",
      "        margin: 0;\n",
      "        padding: 0;\n",
      "        font-family: \"Open Sans\", \"Helvetica Neue\", Helvetica, Arial, sans-serif;\n",
      "        \n",
      "    }\n",
      "    div {\n",
      "        width: 600px;\n",
      "        margin: 5em auto;\n",
      "        padding: 50px;\n",
      "        background-color: #fff;\n",
      "        border-radius: 1em;\n",
      "    }\n",
      "    a:link, a:visited {\n",
      "        color: #38488f;\n",
      "        text-decoration: none;\n",
      "    }\n",
      "    @media (max-width: 700px) {\n",
      "        body {\n",
      "            background-color: #fff;\n",
      "        }\n",
      "        div {\n",
      "            width: auto;\n",
      "            margin: 0 auto;\n",
      "            border-radius: 0;\n",
      "            padding: 1em;\n",
      "        }\n",
      "    }\n",
      "    </style>    \n",
      "</head>\n",
      "\n",
      "<body>\n",
      "<div>\n",
      "    <h1>Example Domain</h1>\n",
      "    <p>This domain is established to be used for illustrative examples in documents. You may use this\n",
      "    domain in examples without prior coordination or asking for permission.</p>\n",
      "    <p><a href=\"http://www.iana.org/domains/example\">More information...</a></p>\n",
      "</div>\n",
      "</body>\n",
      "</html>\n",
      "\n"
     ]
    }
   ],
   "source": [
    "print(response.text)"
   ]
  },
  {
   "cell_type": "markdown",
   "metadata": {},
   "source": [
    "### socket (low-level, если вам в жизни мало ассемблера)"
   ]
  },
  {
   "cell_type": "code",
   "execution_count": 12,
   "metadata": {},
   "outputs": [],
   "source": [
    "import socket"
   ]
  },
  {
   "cell_type": "code",
   "execution_count": 13,
   "metadata": {},
   "outputs": [
    {
     "name": "stdout",
     "output_type": "stream",
     "text": [
      "HTTP/1.1 200 OK\r\n",
      "Cache-Control: max-age=604800\r\n",
      "Content-Type: text/html; charset=UTF-8\r\n",
      "Date: Mon, 25 Mar 2019 16:13:22 GMT\r\n",
      "Etag: \"1541025663+ident\"\r\n",
      "Expires: Mon, 01 Apr 2019 16:13:22 GMT\r\n",
      "Last-Modified: Fri, 09 Aug 2013 23:54:35 GMT\r\n",
      "Server: ECS (dcb/7F16)\r\n",
      "Vary: Accept-Encoding\r\n",
      "X-Cache: HIT\r\n",
      "Content-Length: 1270\r\n",
      "\r\n",
      "<!doctype html>\n",
      "<html>\n",
      "<head>\n",
      "    <title>Example Domain</title>\n",
      "\n",
      "    <meta charset=\"utf-8\" />\n",
      "    <meta http-equiv=\"Content-type\" content=\"text/html; charset=utf-8\" />\n",
      "    <meta name=\"viewport\" content=\"width=device-width, initial-scale=1\" />\n",
      "    <style type=\"text/css\">\n",
      "    body {\n",
      "        background-color: #f0f0f2;\n",
      "        margin: 0;\n",
      "        padding: 0;\n",
      "        font-family: \"Open Sans\", \"Helvetica Neue\", Helvetica, Arial, sans-serif;\n",
      "        \n",
      "    }\n",
      "    div {\n",
      "        width: 600px;\n",
      "        margin: 5em auto;\n",
      "        padding: 50px;\n",
      "        background-color: #fff;\n",
      "        border-radius: 1em;\n",
      "    }\n",
      "    a:link, a:visited {\n",
      "        color: #38488f;\n",
      "        text-decoration: none;\n",
      "    }\n",
      "    @media (max-width: 700px) {\n",
      "        body {\n",
      "            background-color: #fff;\n",
      "        }\n",
      "        div {\n",
      "            width: auto;\n",
      "            margin: 0 auto;\n",
      "            border-radius: 0;\n",
      "            padding: 1em;\n",
      "        }\n",
      "    }\n",
      "    </style>    \n",
      "</head>\n",
      "\n",
      "<body>\n",
      "<div>\n",
      "    <h1>Example Domain</h1>\n",
      "    <p>This domain is established to be used for illustrative examples in document\n"
     ]
    }
   ],
   "source": [
    "sock = socket.socket(socket.AF_INET, socket.SOCK_STREAM)\n",
    "host = socket.gethostbyname('www.example.com')\n",
    "port = 80\n",
    "\n",
    "sock.connect((host,port))\n",
    "sock.sendall(b'GET / HTTP/1.1\\r\\nHost: www.example.com\\r\\n\\r\\n')\n",
    "\n",
    "val = sock.recv(4096)\n",
    "print(val.decode('utf-8'))"
   ]
  },
  {
   "cell_type": "code",
   "execution_count": 14,
   "metadata": {},
   "outputs": [
    {
     "name": "stdout",
     "output_type": "stream",
     "text": [
      "<!doctype html>\n",
      "<html>\n",
      "<head>\n",
      "    <title>Example Domain</title>\n",
      "\n",
      "    <meta charset=\"utf-8\" />\n",
      "    <meta http-equiv=\"Content-type\" content=\"text/html; charset=utf-8\" />\n",
      "    <meta name=\"viewport\" content=\"width=device-width, initial-scale=1\" />\n",
      "    <style type=\"text/css\">\n",
      "    body {\n",
      "        background-color: #f0f0f2;\n",
      "        margin: 0;\n",
      "        padding: 0;\n",
      "        font-family: \"Open Sans\", \"Helvetica Neue\", Helvetica, Arial, sans-serif;\n",
      "        \n",
      "    }\n",
      "    div {\n",
      "        width: 600px;\n",
      "        margin: 5em auto;\n",
      "        padding: 50px;\n",
      "        background-color: #fff;\n",
      "        border-radius: 1em;\n",
      "    }\n",
      "    a:link, a:visited {\n",
      "        color: #38488f;\n",
      "        text-decoration: none;\n",
      "    }\n",
      "    @media (max-width: 700px) {\n",
      "        body {\n",
      "            background-color: #fff;\n",
      "        }\n",
      "        div {\n",
      "            width: auto;\n",
      "            margin: 0 auto;\n",
      "            border-radius: 0;\n",
      "            padding: 1em;\n",
      "        }\n",
      "    }\n",
      "    </style>    \n",
      "</head>\n",
      "\n",
      "<body>\n",
      "<div>\n",
      "    <h1>Example Domain</h1>\n",
      "    <p>This domain is established to be used for illustrative examples in document\n"
     ]
    }
   ],
   "source": [
    "# Split off the HTTP headers\n",
    "val = val.split(b'\\r\\n\\r\\n',1)[1]\n",
    "print(val.decode('utf-8'))"
   ]
  },
  {
   "cell_type": "markdown",
   "metadata": {},
   "source": [
    "### Urllib errors"
   ]
  },
  {
   "cell_type": "code",
   "execution_count": 16,
   "metadata": {},
   "outputs": [
    {
     "data": {
      "text/plain": [
       "['BodyNotHttplibCompatible',\n",
       " 'ClosedPoolError',\n",
       " 'ConnectTimeoutError',\n",
       " 'ConnectionError',\n",
       " 'DecodeError',\n",
       " 'DependencyWarning',\n",
       " 'EmptyPoolError',\n",
       " 'HTTPError',\n",
       " 'HTTPWarning',\n",
       " 'HeaderParsingError',\n",
       " 'HostChangedError',\n",
       " 'IncompleteRead',\n",
       " 'InsecurePlatformWarning',\n",
       " 'InsecureRequestWarning',\n",
       " 'InvalidHeader',\n",
       " 'LocationParseError',\n",
       " 'LocationValueError',\n",
       " 'MaxRetryError',\n",
       " 'NewConnectionError',\n",
       " 'PoolError',\n",
       " 'ProtocolError',\n",
       " 'ProxyError',\n",
       " 'ProxySchemeUnknown',\n",
       " 'ReadTimeoutError',\n",
       " 'RequestError',\n",
       " 'ResponseError',\n",
       " 'ResponseNotChunked',\n",
       " 'SNIMissingWarning',\n",
       " 'SSLError',\n",
       " 'SecurityWarning',\n",
       " 'SubjectAltNameWarning',\n",
       " 'SystemTimeWarning',\n",
       " 'TimeoutError',\n",
       " 'TimeoutStateError',\n",
       " 'UnrewindableBodyError',\n",
       " '__builtins__',\n",
       " '__cached__',\n",
       " '__doc__',\n",
       " '__file__',\n",
       " '__loader__',\n",
       " '__name__',\n",
       " '__package__',\n",
       " '__spec__',\n",
       " 'absolute_import',\n",
       " 'httplib_IncompleteRead']"
      ]
     },
     "execution_count": 16,
     "metadata": {},
     "output_type": "execute_result"
    }
   ],
   "source": [
    "import urllib3\n",
    "dir(urllib3.exceptions)"
   ]
  },
  {
   "cell_type": "markdown",
   "metadata": {},
   "source": [
    "## Парсинг html\n",
    "\n",
    "Варианты инструментов:\n",
    "* re\n",
    "* lxml\n",
    "* BeautifulSoup"
   ]
  },
  {
   "cell_type": "code",
   "execution_count": 16,
   "metadata": {},
   "outputs": [
    {
     "name": "stdout",
     "output_type": "stream",
     "text": [
      "<!doctype html>\n",
      "<html>\n",
      "<head>\n",
      "    <title>Example Domain</title>\n",
      "\n",
      "    <meta charset=\"utf-8\" />\n",
      "    <meta http-equiv=\"Content-type\" content=\"text/html; charset=utf-8\" />\n",
      "    <meta name=\"viewport\" content=\"width=device-width, initial-scale=1\" />\n",
      "    <style type=\"text/css\">\n",
      "    body {\n",
      "        background-color: #f0f0f2;\n",
      "        margin: 0;\n",
      "        padding: 0;\n",
      "        font-family: \"Open Sans\", \"Helvetica Neue\", Helvetica, Arial, sans-serif;\n",
      "        \n",
      "    }\n",
      "    div {\n",
      "        width: 600px;\n",
      "        margin: 5em auto;\n",
      "        padding: 50px;\n",
      "        background-color: #fff;\n",
      "        border-radius: 1em;\n",
      "    }\n",
      "    a:link, a:visited {\n",
      "        color: #38488f;\n",
      "        text-decoration: none;\n",
      "    }\n",
      "    @media (max-width: 700px) {\n",
      "        body {\n",
      "            background-color: #fff;\n",
      "        }\n",
      "        div {\n",
      "            width: auto;\n",
      "            margin: 0 auto;\n",
      "            border-radius: 0;\n",
      "            padding: 1em;\n",
      "        }\n",
      "    }\n",
      "    </style>    \n",
      "</head>\n",
      "\n",
      "<body>\n",
      "<div>\n",
      "    <h1>Example Domain</h1>\n",
      "    <p>This domain is established to be used for illustrative examples in documents. You may use this\n",
      "    domain in examples without prior coordination or asking for permission.</p>\n",
      "    <p><a href=\"http://www.iana.org/domains/example\">More information...</a></p>\n",
      "</div>\n",
      "</body>\n",
      "</html>\n",
      "\n"
     ]
    }
   ],
   "source": [
    "with open('example.com.txt', 'r', encoding='utf-8') as f:\n",
    "    html = f.read()\n",
    "print(html)"
   ]
  },
  {
   "cell_type": "markdown",
   "metadata": {},
   "source": [
    "### re\n",
    "\n",
    "Давайте забудем, что HTML -- дерево, и попробуем попарсить его, как строчку."
   ]
  },
  {
   "cell_type": "code",
   "execution_count": 17,
   "metadata": {},
   "outputs": [],
   "source": [
    "import re"
   ]
  },
  {
   "cell_type": "code",
   "execution_count": 18,
   "metadata": {},
   "outputs": [
    {
     "name": "stdout",
     "output_type": "stream",
     "text": [
      "['<h1>Example Domain</h1>']\n",
      "['Example Domain']\n"
     ]
    }
   ],
   "source": [
    "h1 = re.findall(r'<h1>[\\w ]+</h1>', html)\n",
    "print(h1)\n",
    "h1 = re.findall(r'<h1>([\\w ]+)</h1>', html)\n",
    "print(h1)"
   ]
  },
  {
   "cell_type": "code",
   "execution_count": 21,
   "metadata": {},
   "outputs": [
    {
     "data": {
      "text/plain": [
       "['<a href=\"http://www.iana.org/domains/example\">More information...</a>']"
      ]
     },
     "execution_count": 21,
     "metadata": {},
     "output_type": "execute_result"
    }
   ],
   "source": [
    "paragraphs = re.findall(r'<p>(.*)</p>', html)\n",
    "paragraphs"
   ]
  },
  {
   "cell_type": "markdown",
   "metadata": {},
   "source": [
    "Там же 2 параграфа, почему не нашёлся второй?\n"
   ]
  },
  {
   "cell_type": "code",
   "execution_count": 22,
   "metadata": {},
   "outputs": [
    {
     "data": {
      "text/plain": [
       "['This domain is established to be used for illustrative examples in documents. You may use this\\n    domain in examples without prior coordination or asking for permission.</p>\\n    <p><a href=\"http://www.iana.org/domains/example\">More information...</a>']"
      ]
     },
     "execution_count": 22,
     "metadata": {},
     "output_type": "execute_result"
    }
   ],
   "source": [
    "paragraphs = re.findall(r'<p>([\\w\\W]*)</p>', html) # как-то покрасивее надо\n",
    "paragraphs"
   ]
  },
  {
   "cell_type": "markdown",
   "metadata": {},
   "source": [
    "Опять плохо.."
   ]
  },
  {
   "cell_type": "code",
   "execution_count": 23,
   "metadata": {},
   "outputs": [
    {
     "data": {
      "text/plain": [
       "['<p>This domain is established to be used for illustrative examples in documents. You may use this\\n    domain in examples without prior coordination or asking for permission.</p>',\n",
       " '<p><a href=\"http://www.iana.org/domains/example\">More information...</a></p>']"
      ]
     },
     "execution_count": 23,
     "metadata": {},
     "output_type": "execute_result"
    }
   ],
   "source": [
    "paragraphs = re.findall(r'<p>.*?</p>', html, re.DOTALL) # non-greedy matching\n",
    "paragraphs"
   ]
  },
  {
   "cell_type": "markdown",
   "metadata": {},
   "source": [
    "Жесть, да?"
   ]
  },
  {
   "cell_type": "markdown",
   "metadata": {},
   "source": [
    "### lxml\n",
    "\n",
    "Воспользуемся библиотекой, которая знает про структуру XML (и HTML)."
   ]
  },
  {
   "cell_type": "code",
   "execution_count": 25,
   "metadata": {},
   "outputs": [],
   "source": [
    "from lxml import etree\n",
    "from io import StringIO, BytesIO"
   ]
  },
  {
   "cell_type": "code",
   "execution_count": 26,
   "metadata": {},
   "outputs": [
    {
     "data": {
      "text/plain": [
       "<lxml.etree._ElementTree at 0x7f3658253688>"
      ]
     },
     "execution_count": 26,
     "metadata": {},
     "output_type": "execute_result"
    }
   ],
   "source": [
    "parser = etree.HTMLParser()\n",
    "tree = etree.parse(StringIO(html), parser)\n",
    "tree"
   ]
  },
  {
   "cell_type": "code",
   "execution_count": 27,
   "metadata": {},
   "outputs": [
    {
     "name": "stdout",
     "output_type": "stream",
     "text": [
      "['__class__', '__copy__', '__deepcopy__', '__delattr__', '__dir__', '__doc__', '__eq__', '__format__', '__ge__', '__getattribute__', '__gt__', '__hash__', '__init__', '__le__', '__lt__', '__ne__', '__new__', '__pyx_vtable__', '__reduce__', '__reduce_ex__', '__repr__', '__setattr__', '__sizeof__', '__str__', '__subclasshook__', '_setroot', 'docinfo', 'find', 'findall', 'findtext', 'getelementpath', 'getiterator', 'getpath', 'getroot', 'iter', 'iterfind', 'parse', 'parser', 'relaxng', 'write', 'write_c14n', 'xinclude', 'xmlschema', 'xpath', 'xslt']\n"
     ]
    }
   ],
   "source": [
    "print(dir(tree))"
   ]
  },
  {
   "cell_type": "code",
   "execution_count": 30,
   "metadata": {},
   "outputs": [
    {
     "name": "stdout",
     "output_type": "stream",
     "text": [
      "<Element html at 0x7f3658253a48>\n",
      "<html>\n",
      "<head>\n",
      "    <title>Example Domain</title>\n",
      "\n",
      "    <meta charset=\"utf-8\">\n",
      "    <meta http-equiv=\"Content-type\" content=\"text/html; charset=utf-8\">\n",
      "    <meta name=\"viewport\" content=\"width=device-width, initial-scale=1\">\n",
      "    <style type=\"text/css\">\n",
      "    body {\n",
      "        background-color: #f0f0f2;\n",
      "        margin: 0;\n",
      "        padding: 0;\n",
      "        font-family: \"Open Sans\", \"Helvetica Neue\", Helvetica, Arial, sans-serif;\n",
      "        \n",
      "    }\n",
      "    div {\n",
      "        width: 600px;\n",
      "        margin: 5em auto;\n",
      "        padding: 50px;\n",
      "        background-color: #fff;\n",
      "        border-radius: 1em;\n",
      "    }\n",
      "    a:link, a:visited {\n",
      "        color: #38488f;\n",
      "        text-decoration: none;\n",
      "    }\n",
      "    @media (max-width: 700px) {\n",
      "        body {\n",
      "            background-color: #fff;\n",
      "        }\n",
      "        div {\n",
      "            width: auto;\n",
      "            margin: 0 auto;\n",
      "            border-radius: 0;\n",
      "            padding: 1em;\n",
      "        }\n",
      "    }\n",
      "    </style>    \n",
      "</head>\n",
      "\n",
      "<body>\n",
      "<div>\n",
      "    <h1>Example Domain</h1>\n",
      "    <p>This domain is established to be used for illustrative examples in documents. You may use this\n",
      "    domain in examples without prior coordination or asking for permission.</p>\n",
      "    <p><a href=\"http://www.iana.org/domains/example\">More information...</a></p>\n",
      "</div>\n",
      "</body>\n",
      "</html>\n",
      "\n"
     ]
    }
   ],
   "source": [
    "print(tree.getroot())\n",
    "print(etree.tostring(tree.getroot(), pretty_print=True, method=\"html\").decode('utf-8'))"
   ]
  },
  {
   "cell_type": "code",
   "execution_count": 31,
   "metadata": {},
   "outputs": [
    {
     "name": "stdout",
     "output_type": "stream",
     "text": [
      "This domain is established to be used for illustrative examples in documents. You may use this\n",
      "    domain in examples without prior coordination or asking for permission.\n",
      "None\n"
     ]
    }
   ],
   "source": [
    "paragraphs = tree.xpath('//p')\n",
    "for p in paragraphs:\n",
    "    print(p.text)  "
   ]
  },
  {
   "cell_type": "code",
   "execution_count": 32,
   "metadata": {},
   "outputs": [
    {
     "name": "stdout",
     "output_type": "stream",
     "text": [
      "b'<p>This domain is established to be used for illustrative examples in documents. You may use this\\n    domain in examples without prior coordination or asking for permission.</p>\\n    \\n'\n",
      "b'<p><a href=\"http://www.iana.org/domains/example\">More information...</a></p>\\n\\n'\n"
     ]
    }
   ],
   "source": [
    "for p in paragraphs:\n",
    "    print(etree.tostring(p, pretty_print=True, method='html'))  "
   ]
  },
  {
   "cell_type": "code",
   "execution_count": 33,
   "metadata": {},
   "outputs": [
    {
     "name": "stdout",
     "output_type": "stream",
     "text": [
      "More information...\n",
      "{'href': 'http://www.iana.org/domains/example'}\n"
     ]
    }
   ],
   "source": [
    "hrefs = tree.xpath('//a')\n",
    "for href in hrefs:\n",
    "    print(href.text)  \n",
    "    print(href.attrib)  "
   ]
  },
  {
   "cell_type": "code",
   "execution_count": 34,
   "metadata": {},
   "outputs": [
    {
     "data": {
      "text/plain": [
       "[]"
      ]
     },
     "execution_count": 34,
     "metadata": {},
     "output_type": "execute_result"
    }
   ],
   "source": [
    "specific_hrefs = tree.xpath('//a[@href=\"http://www.non-existing-domain.org/\"]')\n",
    "specific_hrefs"
   ]
  },
  {
   "cell_type": "markdown",
   "metadata": {},
   "source": [
    "### BeautifulSoup\n",
    "\n",
    "Ещё один вариант, который хорошо подходит для парсинга HTML."
   ]
  },
  {
   "cell_type": "code",
   "execution_count": 35,
   "metadata": {
    "scrolled": true
   },
   "outputs": [],
   "source": [
    "# try:\n",
    "from bs4 import BeautifulSoup\n",
    "# except:\n",
    "#     !pip install bs4 "
   ]
  },
  {
   "cell_type": "code",
   "execution_count": 36,
   "metadata": {},
   "outputs": [],
   "source": [
    "soup = BeautifulSoup(html, 'lxml')"
   ]
  },
  {
   "cell_type": "code",
   "execution_count": 37,
   "metadata": {},
   "outputs": [
    {
     "data": {
      "text/plain": [
       "[<p>This domain is established to be used for illustrative examples in documents. You may use this\n",
       "     domain in examples without prior coordination or asking for permission.</p>,\n",
       " <p><a href=\"http://www.iana.org/domains/example\">More information...</a></p>]"
      ]
     },
     "execution_count": 37,
     "metadata": {},
     "output_type": "execute_result"
    }
   ],
   "source": [
    "paragraphs = soup.find_all('p')\n",
    "paragraphs"
   ]
  },
  {
   "cell_type": "code",
   "execution_count": 38,
   "metadata": {},
   "outputs": [
    {
     "data": {
      "text/plain": [
       "[<a href=\"http://www.iana.org/domains/example\">More information...</a>]"
      ]
     },
     "execution_count": 38,
     "metadata": {},
     "output_type": "execute_result"
    }
   ],
   "source": [
    "hrefs = soup.find_all('a')\n",
    "hrefs"
   ]
  },
  {
   "cell_type": "code",
   "execution_count": 39,
   "metadata": {},
   "outputs": [
    {
     "data": {
      "text/plain": [
       "[<a href=\"http://www.iana.org/domains/example\">More information...</a>]"
      ]
     },
     "execution_count": 39,
     "metadata": {},
     "output_type": "execute_result"
    }
   ],
   "source": [
    "hrefs = soup.find_all('a', href='http://www.iana.org/domains/example')\n",
    "hrefs"
   ]
  },
  {
   "cell_type": "code",
   "execution_count": 40,
   "metadata": {},
   "outputs": [
    {
     "data": {
      "text/plain": [
       "[]"
      ]
     },
     "execution_count": 40,
     "metadata": {},
     "output_type": "execute_result"
    }
   ],
   "source": [
    "hrefs = soup.find_all('a', href='http://www.pther-website.org/domains/example')\n",
    "hrefs"
   ]
  },
  {
   "cell_type": "markdown",
   "metadata": {},
   "source": [
    "## Performance"
   ]
  },
  {
   "cell_type": "code",
   "execution_count": 41,
   "metadata": {},
   "outputs": [
    {
     "name": "stdout",
     "output_type": "stream",
     "text": [
      "4.26 µs ± 657 ns per loop (mean ± std. dev. of 7 runs, 100000 loops each)\n",
      "11.4 µs ± 268 ns per loop (mean ± std. dev. of 7 runs, 100000 loops each)\n",
      "15.4 µs ± 129 ns per loop (mean ± std. dev. of 7 runs, 100000 loops each)\n"
     ]
    }
   ],
   "source": [
    "%timeit re.findall(r'<p>.*?</p>', html, re.DOTALL)\n",
    "%timeit tree.xpath('//p')\n",
    "%timeit soup.find_all('p')"
   ]
  },
  {
   "cell_type": "markdown",
   "metadata": {},
   "source": [
    "Мораль: regex -- это быстро.\n",
    "\n",
    "BeautifulSoup чуть дольше lxml, т.к. он для удобства работы преобразует документ в некий внутренний формат -- собственно, суп."
   ]
  },
  {
   "cell_type": "markdown",
   "metadata": {},
   "source": [
    "## Если осталось время и хочется совсем живой практики: scrapy\n",
    "\n",
    "Нужно минут 5-10, в зависимости от качества интернета.\n",
    "\n",
    "А заодно попрактикуемся в ipython magic!\n",
    "\n",
    "Будем парсить сайт с архивом курсов криптовалют: https://coinmarketcap.com/.\n",
    "\n",
    "Хочется открыть [historical snapshots](https://coinmarketcap.com/historical/) и для каждой недели выгрузить полную табличку.\n",
    "\n",
    "### Важно!\n",
    "\n",
    "Совершенно не обязательно понимать, что будет происходить дальше.\n",
    "\n",
    "Мораль: есть фреймворки, которые полностью берут на себя получение и парсинг HTML. \n",
    "\n",
    "А ещё они умеют распараллеливать процесс, вставлять случайные задержки (чтобы серверы не подумали, что вы робот и не заблокировали ваши запросы) и удобно экспортировать полученные данные (например, в базу данных). И многое другое. <br>И всё это контролируется `scrapy.cfg` -- одним конфигурационным файлом.\n",
    "\n",
    "Вам остаётся только указать, какие куски текста надо выцеплять. И в какую базу класть. Ну, почти. :)"
   ]
  },
  {
   "cell_type": "code",
   "execution_count": 42,
   "metadata": {},
   "outputs": [],
   "source": [
    "try:\n",
    "    import scrapy\n",
    "except:\n",
    "    !pip install scrapy"
   ]
  },
  {
   "cell_type": "code",
   "execution_count": 48,
   "metadata": {},
   "outputs": [],
   "source": [
    "!rm -rf coinmarketcap"
   ]
  },
  {
   "cell_type": "code",
   "execution_count": 49,
   "metadata": {},
   "outputs": [
    {
     "name": "stdout",
     "output_type": "stream",
     "text": [
      "New Scrapy project 'coinmarketcap', using template directory '/home/alexeyqu/workspace/shad/lib/python3.5/site-packages/scrapy/templates/project', created in:\r\n",
      "    /home/alexeyqu/workspace/mipt/python-scraping-seminar/scraping/coinmarketcap\r\n",
      "\r\n",
      "You can start your first spider with:\r\n",
      "    cd coinmarketcap\r\n",
      "    scrapy genspider example example.com\r\n"
     ]
    }
   ],
   "source": [
    "!scrapy startproject coinmarketcap"
   ]
  },
  {
   "cell_type": "markdown",
   "metadata": {},
   "source": [
    "Что там внутри?"
   ]
  },
  {
   "cell_type": "code",
   "execution_count": 50,
   "metadata": {},
   "outputs": [
    {
     "name": "stdout",
     "output_type": "stream",
     "text": [
      ".:\r\n",
      "coinmarketcap  scrapy.cfg\r\n",
      "\r\n",
      "./coinmarketcap:\r\n",
      "__init__.py  middlewares.py  __pycache__  spiders\r\n",
      "items.py     pipelines.py    settings.py\r\n",
      "\r\n",
      "./coinmarketcap/__pycache__:\r\n",
      "\r\n",
      "./coinmarketcap/spiders:\r\n",
      "__init__.py  __pycache__\r\n",
      "\r\n",
      "./coinmarketcap/spiders/__pycache__:\r\n"
     ]
    }
   ],
   "source": [
    "!cd coinmarketcap; ls -R"
   ]
  },
  {
   "cell_type": "markdown",
   "metadata": {},
   "source": [
    "Специальная функция, чтобы из ноутбука формировать код в проекте scrapy:"
   ]
  },
  {
   "cell_type": "code",
   "execution_count": 54,
   "metadata": {},
   "outputs": [],
   "source": [
    "def dump_to(path):\n",
    "    with open(path, 'w') as f:\n",
    "        f.write(_i)  # _i это \"последний выполненный Input\" в iPython"
   ]
  },
  {
   "cell_type": "markdown",
   "metadata": {},
   "source": [
    "### Внимание!\n",
    "\n",
    "Следующие ячейки не будут выполняться. <br>Мы просто помещаем код в Input, а потом перекладываем его в нужный файл."
   ]
  },
  {
   "cell_type": "markdown",
   "metadata": {},
   "source": [
    "### Item: cперва определим, что хотим собирать"
   ]
  },
  {
   "cell_type": "code",
   "execution_count": 55,
   "metadata": {},
   "outputs": [],
   "source": [
    "# -*- coding:utf8 -*-\n",
    "\n",
    "import scrapy\n",
    "\n",
    "\n",
    "class CurrencyItem(scrapy.Item):\n",
    "    date = scrapy.Field()\n",
    "    name = scrapy.Field()\n",
    "    symbol = scrapy.Field()\n",
    "    market_cap = scrapy.Field()\n",
    "    price = scrapy.Field()"
   ]
  },
  {
   "cell_type": "code",
   "execution_count": 56,
   "metadata": {},
   "outputs": [],
   "source": [
    "dump_to('./coinmarketcap/coinmarketcap/items.py')"
   ]
  },
  {
   "cell_type": "code",
   "execution_count": 57,
   "metadata": {},
   "outputs": [
    {
     "name": "stdout",
     "output_type": "stream",
     "text": [
      "# -*- coding:utf8 -*-\r\n",
      "\r\n",
      "import scrapy\r\n",
      "\r\n",
      "\r\n",
      "class CurrencyItem(scrapy.Item):\r\n",
      "    date = scrapy.Field()\r\n",
      "    name = scrapy.Field()\r\n",
      "    symbol = scrapy.Field()\r\n",
      "    market_cap = scrapy.Field()\r\n",
      "    price = scrapy.Field()"
     ]
    }
   ],
   "source": [
    "!cat ./coinmarketcap/coinmarketcap/items.py"
   ]
  },
  {
   "cell_type": "markdown",
   "metadata": {},
   "source": [
    "### Spider: тот, кто собирает Item'ы"
   ]
  },
  {
   "cell_type": "code",
   "execution_count": 58,
   "metadata": {},
   "outputs": [
    {
     "ename": "ImportError",
     "evalue": "No module named 'coinmarketcap.items'",
     "output_type": "error",
     "traceback": [
      "\u001b[0;31m---------------------------------------------------------------------------\u001b[0m",
      "\u001b[0;31mImportError\u001b[0m                               Traceback (most recent call last)",
      "\u001b[0;32m<ipython-input-58-fa644f7f6f9d>\u001b[0m in \u001b[0;36m<module>\u001b[0;34m()\u001b[0m\n\u001b[1;32m      7\u001b[0m \u001b[0;32mfrom\u001b[0m \u001b[0mscrapy\u001b[0m\u001b[0;34m.\u001b[0m\u001b[0mloader\u001b[0m \u001b[0;32mimport\u001b[0m \u001b[0mItemLoader\u001b[0m\u001b[0;34m\u001b[0m\u001b[0m\n\u001b[1;32m      8\u001b[0m \u001b[0;32mfrom\u001b[0m \u001b[0mscrapy\u001b[0m\u001b[0;34m.\u001b[0m\u001b[0mselector\u001b[0m \u001b[0;32mimport\u001b[0m \u001b[0mHtmlXPathSelector\u001b[0m\u001b[0;34m,\u001b[0m \u001b[0mSelector\u001b[0m\u001b[0;34m\u001b[0m\u001b[0m\n\u001b[0;32m----> 9\u001b[0;31m \u001b[0;32mfrom\u001b[0m \u001b[0mcoinmarketcap\u001b[0m\u001b[0;34m.\u001b[0m\u001b[0mitems\u001b[0m \u001b[0;32mimport\u001b[0m \u001b[0mCurrencyItem\u001b[0m\u001b[0;34m\u001b[0m\u001b[0m\n\u001b[0m\u001b[1;32m     10\u001b[0m \u001b[0;34m\u001b[0m\u001b[0m\n\u001b[1;32m     11\u001b[0m \u001b[0;32mclass\u001b[0m \u001b[0mCurrencyLoader\u001b[0m\u001b[0;34m(\u001b[0m\u001b[0mItemLoader\u001b[0m\u001b[0;34m)\u001b[0m\u001b[0;34m:\u001b[0m\u001b[0;34m\u001b[0m\u001b[0m\n",
      "\u001b[0;31mImportError\u001b[0m: No module named 'coinmarketcap.items'"
     ]
    }
   ],
   "source": [
    "# -*- coding:utf8 -*-\n",
    "\n",
    "from scrapy import Request\n",
    "from scrapy.spiders import CrawlSpider, Rule\n",
    "from scrapy.linkextractors import LinkExtractor\n",
    "from scrapy.loader.processors import Join\n",
    "from scrapy.loader import ItemLoader\n",
    "from scrapy.selector import HtmlXPathSelector, Selector\n",
    "from coinmarketcap.items import CurrencyItem\n",
    "\n",
    "class CurrencyLoader(ItemLoader):\n",
    "    pass\n",
    "\n",
    "class WeeklySpider(CrawlSpider):\n",
    "    name = 'weekly'\n",
    "    allowed_domains = ['coinmarketcap.com']\n",
    "    start_urls = ['https://coinmarketcap.com/historical/']\n",
    "    only_2018_april_regex = '/201804[0-9]{2}' # full history parsing takes ~4 hrs \n",
    "\n",
    "    rules = (\n",
    "        Rule(LinkExtractor(allow=(only_2018_april_regex, )), callback='parse_weekly_report', follow=False),\n",
    "    )\n",
    "\n",
    "    def parse_weekly_report(self, response):\n",
    "        hxs = HtmlXPathSelector(response)\n",
    "        items_html = hxs.xpath('//table[@id=\"currencies-all\"]/tbody/tr')\n",
    "\n",
    "        items = []\n",
    "\n",
    "        for item_html in items_html:\n",
    "            item = CurrencyItem()\n",
    "\n",
    "            item['date'] = response.request.url.split('/')[-2]\n",
    "            item['name'] = item_html.xpath('.//a[contains(@class, \"currency-name-container\")]/text()').extract()[0]\n",
    "            item['symbol'] = item_html.xpath('.//td[contains(@class, \"col-symbol\")]/text()').extract()[0]\n",
    "            item['market_cap'] = item_html.xpath('.//td[contains(@class, \"market-cap\")]/text()').extract()[0].strip()\n",
    "            item['price'] = item_html.xpath('.//a[contains(@class, \"price\")]/text()').extract()[0]\n",
    "\n",
    "            items.append(item)\n",
    "\n",
    "        return items"
   ]
  },
  {
   "cell_type": "code",
   "execution_count": 59,
   "metadata": {},
   "outputs": [],
   "source": [
    "dump_to('./coinmarketcap/coinmarketcap/spiders/weekly.py')"
   ]
  },
  {
   "cell_type": "markdown",
   "metadata": {},
   "source": [
    "### Pipeline: например, экспорт в БД\n",
    "\n",
    "Не бойтесь, про это будет отдельный семинар!"
   ]
  },
  {
   "cell_type": "code",
   "execution_count": 60,
   "metadata": {},
   "outputs": [
    {
     "ename": "ImportError",
     "evalue": "No module named 'coinmarketcap.items'",
     "output_type": "error",
     "traceback": [
      "\u001b[0;31m---------------------------------------------------------------------------\u001b[0m",
      "\u001b[0;31mImportError\u001b[0m                               Traceback (most recent call last)",
      "\u001b[0;32m<ipython-input-60-9eb3bb2c9387>\u001b[0m in \u001b[0;36m<module>\u001b[0;34m()\u001b[0m\n\u001b[1;32m      9\u001b[0m \u001b[0;32mfrom\u001b[0m \u001b[0mscrapy\u001b[0m\u001b[0;34m.\u001b[0m\u001b[0mexceptions\u001b[0m \u001b[0;32mimport\u001b[0m \u001b[0mDropItem\u001b[0m\u001b[0;34m\u001b[0m\u001b[0m\n\u001b[1;32m     10\u001b[0m \u001b[0;32mfrom\u001b[0m \u001b[0mscrapy\u001b[0m \u001b[0;32mimport\u001b[0m \u001b[0msignals\u001b[0m\u001b[0;34m\u001b[0m\u001b[0m\n\u001b[0;32m---> 11\u001b[0;31m \u001b[0;32mfrom\u001b[0m \u001b[0mcoinmarketcap\u001b[0m\u001b[0;34m.\u001b[0m\u001b[0mitems\u001b[0m \u001b[0;32mimport\u001b[0m \u001b[0mCurrencyItem\u001b[0m\u001b[0;34m\u001b[0m\u001b[0m\n\u001b[0m\u001b[1;32m     12\u001b[0m \u001b[0;32mimport\u001b[0m \u001b[0mpandas\u001b[0m \u001b[0;32mas\u001b[0m \u001b[0mpd\u001b[0m\u001b[0;34m\u001b[0m\u001b[0m\n\u001b[1;32m     13\u001b[0m \u001b[0;34m\u001b[0m\u001b[0m\n",
      "\u001b[0;31mImportError\u001b[0m: No module named 'coinmarketcap.items'"
     ]
    }
   ],
   "source": [
    "# -*- coding: utf-8 -*-\n",
    "\n",
    "import os, logging\n",
    "from sqlalchemy.ext.declarative import declarative_base\n",
    "from sqlalchemy import create_engine, Table, Column, Integer, String, Date, MetaData, ForeignKey\n",
    "from sqlalchemy.engine.url import URL\n",
    "from sqlalchemy.orm import sessionmaker\n",
    "from sqlalchemy.pool import NullPool\n",
    "from scrapy.exceptions import DropItem\n",
    "from scrapy import signals\n",
    "from coinmarketcap.items import CurrencyItem\n",
    "import pandas as pd\n",
    "\n",
    "logger = logging.getLogger(__name__)\n",
    "\n",
    "DeclarativeBase = declarative_base()\n",
    "\n",
    "class Currency(DeclarativeBase):\n",
    "    __tablename__ = 'currency'\n",
    "    __table_args__ = {'sqlite_autoincrement': True}\n",
    "\n",
    "    id = Column('id', Integer, primary_key=True)\n",
    "    date = Column('date', Date)\n",
    "    name = Column('name', String)\n",
    "    symbol = Column('symbol', String)\n",
    "    market_cap = Column('market_cap', String)\n",
    "    price = Column('price', String)\n",
    "\n",
    "    def __init__(self, item):\n",
    "        self.date = pd.to_datetime(item['date'], format='%Y%m%d')\n",
    "        self.name = item['name']\n",
    "        self.symbol = item['symbol']\n",
    "        self.market_cap = item['market_cap']\n",
    "        self.price = item['price']\n",
    "\n",
    "    def __repr__(self):\n",
    "        return \"<Currency({0}, {1}, {2})>\".format(self.id, self.symbol, self.market_cap)\n",
    "\n",
    "\n",
    "class SqlitePipeline(object):\n",
    "    def __init__(self, settings):\n",
    "        self.database = settings.get('DATABASE')\n",
    "        self.sessions = {}\n",
    "\n",
    "    @classmethod\n",
    "    def from_crawler(cls, crawler):\n",
    "        pipeline = cls(crawler.settings)\n",
    "        crawler.signals.connect(pipeline.spider_opened, signals.spider_opened)\n",
    "        crawler.signals.connect(pipeline.spider_closed, signals.spider_closed)\n",
    "        return pipeline\n",
    "\n",
    "    def create_engine(self):\n",
    "        engine = create_engine(URL(**self.database), poolclass=NullPool)\n",
    "        return engine\n",
    "\n",
    "    def create_tables(self, engine):\n",
    "        DeclarativeBase.metadata.create_all(engine, checkfirst=True)\n",
    "\n",
    "    def create_session(self, engine):\n",
    "        session = sessionmaker(bind=engine)()\n",
    "        return session\n",
    "\n",
    "    def spider_opened(self, spider):\n",
    "        engine = self.create_engine()\n",
    "        self.create_tables(engine)\n",
    "        session = self.create_session(engine)\n",
    "        self.sessions[spider] = session\n",
    "\n",
    "    def spider_closed(self, spider):\n",
    "        session = self.sessions.pop(spider)\n",
    "        session.close()\n",
    "\n",
    "    def process_item(self, item, spider):\n",
    "        session = self.sessions[spider]\n",
    "        currency = Currency(item)\n",
    "        link_exists = session.query(Currency).filter_by(symbol=item['symbol'], date=item['date']).first() is not None\n",
    "\n",
    "        if link_exists:\n",
    "            logger.info('Item {} is in db'.format(currency))\n",
    "            return item\n",
    "\n",
    "        try:\n",
    "            session.add(currency)\n",
    "            session.commit()\n",
    "            logger.info('Item {} stored in db'.format(currency))\n",
    "        except:\n",
    "            logger.info('Failed to add {} to db'.format(currency))\n",
    "            session.rollback()\n",
    "            raise\n",
    "\n",
    "        return item"
   ]
  },
  {
   "cell_type": "code",
   "execution_count": 61,
   "metadata": {},
   "outputs": [],
   "source": [
    "dump_to('./coinmarketcap/coinmarketcap/pipelines.py')"
   ]
  },
  {
   "cell_type": "markdown",
   "metadata": {},
   "source": [
    "### Settings: общие настройки scrapy"
   ]
  },
  {
   "cell_type": "code",
   "execution_count": 62,
   "metadata": {},
   "outputs": [],
   "source": [
    "# -*- coding: utf-8 -*-\n",
    "\n",
    "# Scrapy settings for coinmarketcap project\n",
    "#\n",
    "# For simplicity, this file contains only settings considered important or\n",
    "# commonly used. You can find more settings consulting the documentation:\n",
    "#\n",
    "#     https://doc.scrapy.org/en/latest/topics/settings.html\n",
    "#     https://doc.scrapy.org/en/latest/topics/downloader-middleware.html\n",
    "#     https://doc.scrapy.org/en/latest/topics/spider-middleware.html\n",
    "\n",
    "BOT_NAME = 'coinmarketcap'\n",
    "\n",
    "SPIDER_MODULES = ['coinmarketcap.spiders']\n",
    "NEWSPIDER_MODULE = 'coinmarketcap.spiders'\n",
    "\n",
    "DATABASE = {\n",
    "    'drivername': 'sqlite',\n",
    "    # 'host': 'localhost',\n",
    "    # 'port': '5432',\n",
    "    # 'username': 'YOUR_USERNAME',\n",
    "    # 'password': 'YOUR_PASSWORD',\n",
    "    'database': 'weekly.sqlite'\n",
    "}\n",
    "\n",
    "# Crawl responsibly by identifying yourself (and your website) on the user-agent\n",
    "USER_AGENT = '%s' % (BOT_NAME)\n",
    "\n",
    "# Obey robots.txt rules\n",
    "# ROBOTSTXT_OBEY = True\n",
    "\n",
    "# Configure maximum concurrent requests performed by Scrapy (default: 16)\n",
    "CONCURRENT_REQUESTS = 1\n",
    "\n",
    "# Configure a delay for requests for the same website (default: 0)\n",
    "# See https://doc.scrapy.org/en/latest/topics/settings.html#download-delay\n",
    "# See also autothrottle settings and docs\n",
    "#DOWNLOAD_DELAY = 3\n",
    "# The download delay setting will honor only one of:\n",
    "#CONCURRENT_REQUESTS_PER_DOMAIN = 16\n",
    "#CONCURRENT_REQUESTS_PER_IP = 16\n",
    "\n",
    "# Disable cookies (enabled by default)\n",
    "#COOKIES_ENABLED = False\n",
    "\n",
    "# Disable Telnet Console (enabled by default)\n",
    "#TELNETCONSOLE_ENABLED = False\n",
    "\n",
    "# Override the default request headers:\n",
    "#DEFAULT_REQUEST_HEADERS = {\n",
    "#   'Accept': 'text/html,application/xhtml+xml,application/xml;q=0.9,*/*;q=0.8',\n",
    "#   'Accept-Language': 'en',\n",
    "#}\n",
    "\n",
    "# Enable or disable spider middlewares\n",
    "# See https://doc.scrapy.org/en/latest/topics/spider-middleware.html\n",
    "#SPIDER_MIDDLEWARES = {\n",
    "#    'coinmarketcap.middlewares.CoinmarketcapSpiderMiddleware': 543,\n",
    "#}\n",
    "\n",
    "# Enable or disable downloader middlewares\n",
    "# See https://doc.scrapy.org/en/latest/topics/downloader-middleware.html\n",
    "#DOWNLOADER_MIDDLEWARES = {\n",
    "#    'coinmarketcap.middlewares.CoinmarketcapDownloaderMiddleware': 543,\n",
    "#}\n",
    "\n",
    "# Enable or disable extensions\n",
    "# See https://doc.scrapy.org/en/latest/topics/extensions.html\n",
    "#EXTENSIONS = {\n",
    "#    'scrapy.extensions.telnet.TelnetConsole': None,\n",
    "#}\n",
    "\n",
    "# Configure item pipelines\n",
    "# See https://doc.scrapy.org/en/latest/topics/item-pipeline.html\n",
    "ITEM_PIPELINES = {\n",
    "   'coinmarketcap.pipelines.SqlitePipeline': 300,\n",
    "}\n",
    "\n",
    "# Enable and configure the AutoThrottle extension (disabled by default)\n",
    "# See https://doc.scrapy.org/en/latest/topics/autothrottle.html\n",
    "AUTOTHROTTLE_ENABLED = True\n",
    "# The initial download delay\n",
    "AUTOTHROTTLE_START_DELAY = 5\n",
    "# The maximum download delay to be set in case of high latencies\n",
    "AUTOTHROTTLE_MAX_DELAY = 60\n",
    "# The average number of requests Scrapy should be sending in parallel to\n",
    "# each remote server\n",
    "#AUTOTHROTTLE_TARGET_CONCURRENCY = 1.0\n",
    "# Enable showing throttling stats for every response received:\n",
    "#AUTOTHROTTLE_DEBUG = False\n",
    "\n",
    "# Enable and configure HTTP caching (disabled by default)\n",
    "# See https://doc.scrapy.org/en/latest/topics/downloader-middleware.html#httpcache-middleware-settings\n",
    "#HTTPCACHE_ENABLED = True\n",
    "#HTTPCACHE_EXPIRATION_SECS = 0\n",
    "#HTTPCACHE_DIR = 'httpcache'\n",
    "#HTTPCACHE_IGNORE_HTTP_CODES = []\n",
    "#HTTPCACHE_STORAGE = 'scrapy.extensions.httpcache.FilesystemCacheStorage'\n",
    "\n",
    "LOG_FILE = 'crawling.log'"
   ]
  },
  {
   "cell_type": "code",
   "execution_count": 63,
   "metadata": {},
   "outputs": [],
   "source": [
    "dump_to('./coinmarketcap/coinmarketcap/settings.py')"
   ]
  },
  {
   "cell_type": "markdown",
   "metadata": {},
   "source": [
    "Посмотрим на структуру scrapy проекта ещё раз"
   ]
  },
  {
   "cell_type": "code",
   "execution_count": 65,
   "metadata": {},
   "outputs": [
    {
     "name": "stdout",
     "output_type": "stream",
     "text": [
      ".:\r\n",
      "coinmarketcap  scrapy.cfg\r\n",
      "\r\n",
      "./coinmarketcap:\r\n",
      "__init__.py  middlewares.py  __pycache__  spiders\r\n",
      "items.py     pipelines.py    settings.py\r\n",
      "\r\n",
      "./coinmarketcap/__pycache__:\r\n",
      "\r\n",
      "./coinmarketcap/spiders:\r\n",
      "__init__.py  __pycache__  weekly.py\r\n",
      "\r\n",
      "./coinmarketcap/spiders/__pycache__:\r\n"
     ]
    }
   ],
   "source": [
    "!cd coinmarketcap; ls -R"
   ]
  },
  {
   "cell_type": "markdown",
   "metadata": {},
   "source": [
    "### Всё! \n",
    "\n",
    "Запустим паука! \n",
    "\n",
    "Обходим только апрельские данные, сейчас это [1557](https://coinmarketcap.com/historical/20180401/) + [1542](https://coinmarketcap.com/historical/20180408/) + [1546](https://coinmarketcap.com/historical/20180415/) + [1563](https://coinmarketcap.com/historical/20180422/) = 7780 записей.\n",
    "\n",
    "Числа могут меняться, год назад они были другими. Наверное, новые валюты добавились в базу.\n",
    "\n",
    "ETA 5-7 минут с хорошим интернетом."
   ]
  },
  {
   "cell_type": "code",
   "execution_count": 66,
   "metadata": {},
   "outputs": [
    {
     "name": "stdout",
     "output_type": "stream",
     "text": [
      "1min 22s ± 0 ns per loop (mean ± std. dev. of 1 run, 1 loop each)\n"
     ]
    }
   ],
   "source": [
    "%%timeit -n 1 -r 1\n",
    "!cd coinmarketcap ; scrapy crawl weekly"
   ]
  },
  {
   "cell_type": "markdown",
   "metadata": {},
   "source": [
    "Посмотрим, что получилось:"
   ]
  },
  {
   "cell_type": "code",
   "execution_count": 67,
   "metadata": {},
   "outputs": [
    {
     "name": "stdout",
     "output_type": "stream",
     "text": [
      "(7780, 6)\n"
     ]
    },
    {
     "data": {
      "text/html": [
       "<div>\n",
       "<style scoped>\n",
       "    .dataframe tbody tr th:only-of-type {\n",
       "        vertical-align: middle;\n",
       "    }\n",
       "\n",
       "    .dataframe tbody tr th {\n",
       "        vertical-align: top;\n",
       "    }\n",
       "\n",
       "    .dataframe thead th {\n",
       "        text-align: right;\n",
       "    }\n",
       "</style>\n",
       "<table border=\"1\" class=\"dataframe\">\n",
       "  <thead>\n",
       "    <tr style=\"text-align: right;\">\n",
       "      <th></th>\n",
       "      <th>id</th>\n",
       "      <th>date</th>\n",
       "      <th>name</th>\n",
       "      <th>symbol</th>\n",
       "      <th>market_cap</th>\n",
       "      <th>price</th>\n",
       "    </tr>\n",
       "  </thead>\n",
       "  <tbody>\n",
       "    <tr>\n",
       "      <th>0</th>\n",
       "      <td>1</td>\n",
       "      <td>2018-04-01</td>\n",
       "      <td>Bitcoin</td>\n",
       "      <td>BTC</td>\n",
       "      <td>$116,026,767,356</td>\n",
       "      <td>$6844.23</td>\n",
       "    </tr>\n",
       "    <tr>\n",
       "      <th>1</th>\n",
       "      <td>2</td>\n",
       "      <td>2018-04-01</td>\n",
       "      <td>Ethereum</td>\n",
       "      <td>ETH</td>\n",
       "      <td>$37,413,358,767</td>\n",
       "      <td>$379.61</td>\n",
       "    </tr>\n",
       "    <tr>\n",
       "      <th>2</th>\n",
       "      <td>3</td>\n",
       "      <td>2018-04-01</td>\n",
       "      <td>XRP</td>\n",
       "      <td>XRP</td>\n",
       "      <td>$18,964,013,319</td>\n",
       "      <td>$0.485081</td>\n",
       "    </tr>\n",
       "    <tr>\n",
       "      <th>3</th>\n",
       "      <td>4</td>\n",
       "      <td>2018-04-01</td>\n",
       "      <td>Bitcoin Cash</td>\n",
       "      <td>BCH</td>\n",
       "      <td>$10,963,857,059</td>\n",
       "      <td>$643.03</td>\n",
       "    </tr>\n",
       "    <tr>\n",
       "      <th>4</th>\n",
       "      <td>5</td>\n",
       "      <td>2018-04-01</td>\n",
       "      <td>Litecoin</td>\n",
       "      <td>LTC</td>\n",
       "      <td>$6,440,317,479</td>\n",
       "      <td>$115.22</td>\n",
       "    </tr>\n",
       "  </tbody>\n",
       "</table>\n",
       "</div>"
      ],
      "text/plain": [
       "   id        date          name symbol        market_cap      price\n",
       "0   1  2018-04-01       Bitcoin    BTC  $116,026,767,356   $6844.23\n",
       "1   2  2018-04-01      Ethereum    ETH   $37,413,358,767    $379.61\n",
       "2   3  2018-04-01           XRP    XRP   $18,964,013,319  $0.485081\n",
       "3   4  2018-04-01  Bitcoin Cash    BCH   $10,963,857,059    $643.03\n",
       "4   5  2018-04-01      Litecoin    LTC    $6,440,317,479    $115.22"
      ]
     },
     "execution_count": 67,
     "metadata": {},
     "output_type": "execute_result"
    }
   ],
   "source": [
    "import sqlite3\n",
    "import pandas as pd\n",
    "\n",
    "connection = sqlite3.connect('./coinmarketcap/weekly.sqlite')\n",
    "\n",
    "df = pd.read_sql_query(\"SELECT * FROM currency\", connection)\n",
    "print(df.shape)\n",
    "df.head()"
   ]
  },
  {
   "cell_type": "code",
   "execution_count": 68,
   "metadata": {},
   "outputs": [],
   "source": [
    "assert(df.shape[0] == 7780)"
   ]
  },
  {
   "cell_type": "code",
   "execution_count": null,
   "metadata": {},
   "outputs": [],
   "source": []
  }
 ],
 "metadata": {
  "kernelspec": {
   "display_name": "Python 3",
   "language": "python",
   "name": "python3"
  },
  "language_info": {
   "codemirror_mode": {
    "name": "ipython",
    "version": 3
   },
   "file_extension": ".py",
   "mimetype": "text/x-python",
   "name": "python",
   "nbconvert_exporter": "python",
   "pygments_lexer": "ipython3",
   "version": "3.5.2"
  }
 },
 "nbformat": 4,
 "nbformat_minor": 2
}
