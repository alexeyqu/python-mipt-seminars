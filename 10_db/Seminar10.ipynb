{
 "cells": [
  {
   "cell_type": "markdown",
   "metadata": {
    "collapsed": true,
    "slideshow": {
     "slide_type": "slide"
    }
   },
   "source": [
    "# Работа с реляционными базыми данных"
   ]
  },
  {
   "cell_type": "markdown",
   "metadata": {},
   "source": [
    "### План\n",
    "1. Вспоминаем курс БД: Реляционная базы данных и Язык SQL\n",
    "1. SQLite3\n",
    "1. PostgreSQL + psycopg2\n",
    "1. ORM. [SQLAlchemy](http://www.sqlalchemy.org)"
   ]
  },
  {
   "cell_type": "markdown",
   "metadata": {
    "slideshow": {
     "slide_type": "subslide"
    }
   },
   "source": [
    "### Реляционная базы данных"
   ]
  },
  {
   "cell_type": "markdown",
   "metadata": {},
   "source": [
    "Реляционные базы данных:\n",
    "  * Связанная информация, хранящаяся в двумерных таблицах\n",
    "  * Каждая таблица представляет собой набор полей (колонки) и набор объектов (записей)\n",
    "  * Порядок записей в таблице произволен, столбцов - фиксирован\n",
    "  * Идентификация записей осуществляется с помощью первичных ключей\n",
    "\n",
    "Если коротко, то реляционные базы данных - это таблицы с индексами для быстрого поиска, связанные между собой"
   ]
  },
  {
   "cell_type": "markdown",
   "metadata": {
    "slideshow": {
     "slide_type": "subslide"
    }
   },
   "source": [
    "### Язык SQL"
   ]
  },
  {
   "cell_type": "markdown",
   "metadata": {},
   "source": [
    "* [Язык структурированных запросов](https://ru.wikipedia.org/wiki/SQL)\n",
    "* Стандартизирован, но БД пытаются соответствовать стандарту ANSI не позволяя ему ограничивать их слишком сильно\n",
    "* Типы: Числа (INTEGER и DECIMAL), строки (CHAR, VARCHAR) и т.д.\n",
    "* Операторы: SELECT FROM, WHERE, GROUP BY, COUNT, HAVING и т.д.\n",
    "* Джойны: Inner join, outer join и т.д.\n",
    "* Подзапросы\n",
    "* Команды модификации: INSERT, DELETE, UPDATE\n",
    "* Создание таблиц\n"
   ]
  },
  {
   "cell_type": "markdown",
   "metadata": {
    "slideshow": {
     "slide_type": "slide"
    }
   },
   "source": [
    "### SQLite3"
   ]
  },
  {
   "cell_type": "markdown",
   "metadata": {},
   "source": [
    "<img src='pictures/sqlite.png' />"
   ]
  },
  {
   "cell_type": "markdown",
   "metadata": {},
   "source": [
    "* Простейший способ использовать БД\n",
    "* Вся БД хранится в одном файле\n",
    "* Отличный способ иметь БД в мобильных приложениях\n",
    "* Доступ из коммандной строки: sqlite3 filename\n",
    "* API для Python, с++ и т.д."
   ]
  },
  {
   "cell_type": "markdown",
   "metadata": {
    "slideshow": {
     "slide_type": "subslide"
    }
   },
   "source": [
    "#### Попробуем выполнить простой запрос"
   ]
  },
  {
   "cell_type": "code",
   "execution_count": 1,
   "metadata": {},
   "outputs": [
    {
     "name": "stdout",
     "output_type": "stream",
     "text": [
      "(1,)\n"
     ]
    }
   ],
   "source": [
    "import sqlite3\n",
    "\n",
    "# Соединение с базой\n",
    "conn = sqlite3.connect('example.db')\n",
    "\n",
    "# Объект для исполнения SQL запросов над базой\n",
    "cur = conn.cursor()\n",
    "\n",
    "# Выполним какой-нибудь запрос\n",
    "cur.execute('select 1')\n",
    "\n",
    "# Читаем результат. fetchone ожидает единственную строку\n",
    "print(cur.fetchone())\n",
    "\n",
    "# Закрываем за собой соединение с базой.\n",
    "conn.close()"
   ]
  },
  {
   "cell_type": "markdown",
   "metadata": {
    "slideshow": {
     "slide_type": "subslide"
    }
   },
   "source": [
    "Не забываем закрывать соединение! <br>\n",
    "**Connection - это ресурс, который может и закончиться.** <br>\n",
    "В этом нам помогут контекстные менеджеры."
   ]
  },
  {
   "cell_type": "code",
   "execution_count": 4,
   "metadata": {
    "slideshow": {
     "slide_type": "-"
    }
   },
   "outputs": [
    {
     "name": "stdout",
     "output_type": "stream",
     "text": [
      "('Hello, world!', 42)\n"
     ]
    }
   ],
   "source": [
    "# Соединение с базой теперь закроется само.\n",
    "with sqlite3.connect('example.db') as conn:\n",
    "    \n",
    "    # Объект для исполнения SQL запросов над базой\n",
    "    cur = conn.cursor()\n",
    "\n",
    "    # Выполним какой-нибудь запрос\n",
    "    cur.execute(\"select 'Hello, world!', 6 * 7\")\n",
    "\n",
    "    # Читаем результат. fetchone ожидает единственную строку\n",
    "    print(cur.fetchone())"
   ]
  },
  {
   "cell_type": "markdown",
   "metadata": {},
   "source": [
    "Установка соединения может быть дорогой операцией.<br>\n",
    "Не стоит создавать соединение для каждого запроса. По возможности переиспользуйте старое."
   ]
  },
  {
   "cell_type": "markdown",
   "metadata": {
    "slideshow": {
     "slide_type": "subslide"
    }
   },
   "source": [
    "#### Теперь посмотрим как работать с sqlite3 на примере простой базы с пользователями.<br>\n",
    "Для начала создадим таблицы:"
   ]
  },
  {
   "cell_type": "code",
   "execution_count": 4,
   "metadata": {},
   "outputs": [],
   "source": [
    "def create_tables(cur, conn):\n",
    "    # Удалим старые таблицы, если есть.\n",
    "    cur.execute('DROP TABLE IF EXISTS users')\n",
    "    cur.execute('DROP TABLE IF EXISTS user_types')\n",
    "    \n",
    "    # Пишем SQL запрос для создания таблиц\n",
    "    cur.execute('''\n",
    "        CREATE TABLE user_types (\n",
    "            id INTEGER PRIMARY KEY AUTOINCREMENT,\n",
    "            name VARCHAR(255)\n",
    "        )''')\n",
    "    cur.execute('''\n",
    "        CREATE TABLE users (\n",
    "            id INTEGER PRIMARY KEY AUTOINCREMENT,\n",
    "            first_name VARCHAR(255),\n",
    "            last_name VARCHAR(255),\n",
    "            active BOOLEAN,\n",
    "            profile INTEGER,\n",
    "            FOREIGN KEY(profile) REFERENCES user_types(id)\n",
    "        )''')\n",
    "    \n",
    "    # Отправить текущую транзакцию.\n",
    "    # Если не сделать, то изменения не будут видны в других connect'ax\n",
    "    # Закрытие соединения не вызывает commit автоматически!\n",
    "    conn.commit()"
   ]
  },
  {
   "cell_type": "markdown",
   "metadata": {
    "collapsed": true,
    "slideshow": {
     "slide_type": "subslide"
    }
   },
   "source": [
    "Работать с пустыми таблицами - не очень интересно, давайте заполним их"
   ]
  },
  {
   "cell_type": "code",
   "execution_count": 20,
   "metadata": {},
   "outputs": [],
   "source": [
    "def add_user_types(cur):\n",
    "    cur.execute('''INSERT INTO user_types (name) VALUES ('Student')''')\n",
    "    cur.execute('''INSERT INTO user_types (name) VALUES ('Teacher')''')\n",
    "\n",
    "def add_teachers(cur):\n",
    "    cur.execute('''\n",
    "        INSERT INTO users (first_name, last_name, active, profile) VALUES \n",
    "            ('Maxim', 'Popov', '1', \n",
    "                (SELECT id FROM user_types WHERE name = 'Teacher'))''')\n",
    "    cur.execute('''\n",
    "        INSERT INTO users (first_name, last_name, active, profile) VALUES \n",
    "            ('Igor', 'Orlov', '1', \n",
    "                (SELECT id FROM user_types WHERE name = 'Teacher'))''')\n",
    "\n",
    "def add_students(cur):\n",
    "    cur.execute('''\n",
    "        INSERT INTO users (first_name, last_name, active, profile) VALUES \n",
    "            ('Ivan', 'Ivanov', '0', \n",
    "                (SELECT id FROM user_types WHERE name = 'Student'))''')\n",
    "    cur.execute('''\n",
    "        INSERT INTO users (first_name, last_name, active, profile) VALUES \n",
    "            ('Petr', 'Petrov', '0', \n",
    "                (SELECT id FROM user_types WHERE name = 'Student'))''')\n",
    "    cur.execute('''\n",
    "        INSERT INTO users (first_name, last_name, active, profile) VALUES \n",
    "            ('Petr', 'Sidorov', '0', \n",
    "                (SELECT id FROM user_types WHERE name = 'Student'))''')"
   ]
  },
  {
   "cell_type": "markdown",
   "metadata": {
    "slideshow": {
     "slide_type": "subslide"
    }
   },
   "source": [
    "Выполним запросы к базе"
   ]
  },
  {
   "cell_type": "code",
   "execution_count": 21,
   "metadata": {},
   "outputs": [],
   "source": [
    "with sqlite3.connect('example.db') as conn:\n",
    "\n",
    "    cur = conn.cursor()\n",
    "    \n",
    "    # Функция создания таблиц коммитит транзакцию сразу.\n",
    "    create_tables(cur, conn)\n",
    "    \n",
    "    # Функции добавления польователей не вызывают commit.\n",
    "    add_user_types(cur)\n",
    "    add_teachers(cur)\n",
    "    add_students(cur)\n",
    "    \n",
    "    # Делаем commit для всех запросов добавления.\n",
    "    # Если забудем - то таблицы останутся пустыми.\n",
    "    conn.commit()"
   ]
  },
  {
   "cell_type": "markdown",
   "metadata": {
    "slideshow": {
     "slide_type": "subslide"
    }
   },
   "source": [
    "Попробуем теперь зачитать всех студентов"
   ]
  },
  {
   "cell_type": "code",
   "execution_count": 22,
   "metadata": {},
   "outputs": [
    {
     "name": "stdout",
     "output_type": "stream",
     "text": [
      "Ivan Ivanov\n",
      "Petr Petrov\n",
      "Petr Sidorov\n"
     ]
    }
   ],
   "source": [
    "def select_all_students(conn):\n",
    "    query = '''SELECT users.first_name, users.last_name \n",
    "               FROM users \n",
    "               WHERE profile = (SELECT id FROM user_types WHERE name = 'Student')'''\n",
    "    cur = conn.cursor()\n",
    "    cur.execute(query)\n",
    "\n",
    "    # Получить все строчки результата выполнения query\n",
    "    # Это не всегда быстро, особенно если много результатов\n",
    "    # Кроме того большое потребление памяти, так как возвращается list\n",
    "    rows = cur.fetchall() \n",
    "\n",
    "    # Как fetchall только задаем сколько хотим получить\n",
    "    # rows = cur.fetchmany(10) \n",
    "\n",
    "    for row in rows:\n",
    "        first_name, last_name = row\n",
    "        print(first_name, last_name)\n",
    "        \n",
    "with sqlite3.connect('example.db') as conn:\n",
    "    select_all_students(conn)"
   ]
  },
  {
   "cell_type": "code",
   "execution_count": 23,
   "metadata": {
    "slideshow": {
     "slide_type": "subslide"
    }
   },
   "outputs": [
    {
     "name": "stdout",
     "output_type": "stream",
     "text": [
      "Ivan Ivanov\n",
      "Petr Petrov\n",
      "Petr Sidorov\n"
     ]
    }
   ],
   "source": [
    "def select_all_students(conn):\n",
    "    query = '''SELECT users.first_name, users.last_name \n",
    "               FROM users \n",
    "               WHERE profile = (SELECT id FROM user_types WHERE name = 'Student')'''\n",
    "    cur = conn.cursor()\n",
    "    cur.execute(query)\n",
    "\n",
    "    # А лучше просто проитерироваться\n",
    "    for row in cur:\n",
    "        first_name, last_name = row\n",
    "        print(first_name, last_name)\n",
    "        \n",
    "with sqlite3.connect('example.db') as conn:\n",
    "    select_all_students(conn)"
   ]
  },
  {
   "cell_type": "markdown",
   "metadata": {
    "slideshow": {
     "slide_type": "subslide"
    }
   },
   "source": [
    "Попробуем сделать учителя Maxim Popov студентом"
   ]
  },
  {
   "cell_type": "code",
   "execution_count": 24,
   "metadata": {},
   "outputs": [],
   "source": [
    "def alter_teacher(conn):\n",
    "    cur = conn.cursor()\n",
    "    cur.execute('''UPDATE users SET profile = (SELECT id FROM user_types WHERE name = \"Student\")\n",
    "                   WHERE first_name = \"Maxim\" AND last_name = \"Popov\"\n",
    "    ''')\n",
    "\n",
    "with sqlite3.connect('example.db') as conn:\n",
    "    alter_teacher(conn)"
   ]
  },
  {
   "cell_type": "markdown",
   "metadata": {},
   "source": [
    "Посмотрим на результат"
   ]
  },
  {
   "cell_type": "code",
   "execution_count": 25,
   "metadata": {},
   "outputs": [
    {
     "name": "stdout",
     "output_type": "stream",
     "text": [
      "Maxim Popov\n",
      "Ivan Ivanov\n",
      "Petr Petrov\n",
      "Petr Sidorov\n"
     ]
    }
   ],
   "source": [
    "with sqlite3.connect('example.db') as conn:\n",
    "    select_all_students(conn)"
   ]
  },
  {
   "cell_type": "markdown",
   "metadata": {
    "slideshow": {
     "slide_type": "subslide"
    }
   },
   "source": [
    "Создадим функцию, чтобы добавить всех студентов сразу!"
   ]
  },
  {
   "cell_type": "code",
   "execution_count": 26,
   "metadata": {},
   "outputs": [],
   "source": [
    "def add_students(conn, students):\n",
    "    queries = []\n",
    "    \n",
    "    for student in students:\n",
    "        query = '''\n",
    "            INSERT INTO users (first_name, last_name, active, profile) VALUES \n",
    "                (\"{}\", \"{}\", 0, \n",
    "                    (SELECT id FROM user_types WHERE name = \"Student\"));'''\n",
    "        queries.append(query.format(*student))\n",
    "    print(queries)\n",
    "    cur = conn.cursor()\n",
    "    \n",
    "    # Исполняет сразу несколько запросов, разделенных ';'\n",
    "    cur.executescript(''.join(queries))"
   ]
  },
  {
   "cell_type": "code",
   "execution_count": 27,
   "metadata": {},
   "outputs": [
    {
     "name": "stdout",
     "output_type": "stream",
     "text": [
      "Maxim Popov\n",
      "Ivan Ivanov\n",
      "Petr Petrov\n",
      "Petr Sidorov\n",
      "Vladimir Vladimirov\n",
      "Dmitry Dmitriev\n"
     ]
    }
   ],
   "source": [
    "with sqlite3.connect('example.db') as conn:\n",
    "    students = [('Vladimir', 'Vladimirov'), ('Dmitry', 'Dmitriev')]\n",
    "    add_strudents(conn, students)\n",
    "    \n",
    "    # Проверим, что все вставилось.\n",
    "    select_all_students(conn)"
   ]
  },
  {
   "cell_type": "markdown",
   "metadata": {},
   "source": [
    "Все отлично работает!"
   ]
  },
  {
   "cell_type": "code",
   "execution_count": 28,
   "metadata": {
    "slideshow": {
     "slide_type": "subslide"
    }
   },
   "outputs": [
    {
     "name": "stdout",
     "output_type": "stream",
     "text": [
      "['\\n            INSERT INTO users (first_name, last_name, active, profile) VALUES \\n                (\"cool\", \"hacker\", 0, 0); drop table users; --\", 0, \\n                    (SELECT id FROM user_types WHERE name = \"Student\"));']\n"
     ]
    },
    {
     "ename": "OperationalError",
     "evalue": "near \"(\": syntax error",
     "output_type": "error",
     "traceback": [
      "\u001b[0;31m---------------------------------------------------------------------------\u001b[0m",
      "\u001b[0;31mOperationalError\u001b[0m                          Traceback (most recent call last)",
      "\u001b[0;32m<ipython-input-28-99feb66b0479>\u001b[0m in \u001b[0;36m<module>\u001b[0;34m()\u001b[0m\n\u001b[1;32m      1\u001b[0m \u001b[0;32mwith\u001b[0m \u001b[0msqlite3\u001b[0m\u001b[0;34m.\u001b[0m\u001b[0mconnect\u001b[0m\u001b[0;34m(\u001b[0m\u001b[0;34m'example.db'\u001b[0m\u001b[0;34m)\u001b[0m \u001b[0;32mas\u001b[0m \u001b[0mconn\u001b[0m\u001b[0;34m:\u001b[0m\u001b[0;34m\u001b[0m\u001b[0m\n\u001b[1;32m      2\u001b[0m     \u001b[0mstudents\u001b[0m \u001b[0;34m=\u001b[0m \u001b[0;34m[\u001b[0m\u001b[0;34m(\u001b[0m\u001b[0;34m'cool'\u001b[0m\u001b[0;34m,\u001b[0m \u001b[0;34m'hacker\", 0, 0); drop table users; --'\u001b[0m\u001b[0;34m)\u001b[0m\u001b[0;34m]\u001b[0m\u001b[0;34m\u001b[0m\u001b[0m\n\u001b[0;32m----> 3\u001b[0;31m     \u001b[0madd_students\u001b[0m\u001b[0;34m(\u001b[0m\u001b[0mconn\u001b[0m\u001b[0;34m,\u001b[0m \u001b[0mstudents\u001b[0m\u001b[0;34m)\u001b[0m\u001b[0;34m\u001b[0m\u001b[0m\n\u001b[0m",
      "\u001b[0;32m<ipython-input-26-2465512dc4cf>\u001b[0m in \u001b[0;36madd_students\u001b[0;34m(conn, students)\u001b[0m\n\u001b[1;32m     12\u001b[0m \u001b[0;34m\u001b[0m\u001b[0m\n\u001b[1;32m     13\u001b[0m     \u001b[0;31m# Исполняет сразу несколько запросов, разделенных ';'\u001b[0m\u001b[0;34m\u001b[0m\u001b[0;34m\u001b[0m\u001b[0m\n\u001b[0;32m---> 14\u001b[0;31m     \u001b[0mcur\u001b[0m\u001b[0;34m.\u001b[0m\u001b[0mexecutescript\u001b[0m\u001b[0;34m(\u001b[0m\u001b[0;34m''\u001b[0m\u001b[0;34m.\u001b[0m\u001b[0mjoin\u001b[0m\u001b[0;34m(\u001b[0m\u001b[0mqueries\u001b[0m\u001b[0;34m)\u001b[0m\u001b[0;34m)\u001b[0m\u001b[0;34m\u001b[0m\u001b[0m\n\u001b[0m",
      "\u001b[0;31mOperationalError\u001b[0m: near \"(\": syntax error"
     ]
    }
   ],
   "source": [
    "with sqlite3.connect('example.db') as conn:\n",
    "    students = [('cool', 'hacker\", 0, 0); drop table users; --')]\n",
    "    add_students(conn, students)"
   ]
  },
  {
   "cell_type": "code",
   "execution_count": null,
   "metadata": {},
   "outputs": [],
   "source": [
    "INSERT INTO users (first_name, last_name, active, profile) VALUES\n",
    "(\"cool\", \"hacker\", 0, 0); drop table users; --\", 0, \\n         \n",
    "(SELECT id FROM user_types WHERE name = \"Student\"));"
   ]
  },
  {
   "cell_type": "code",
   "execution_count": 18,
   "metadata": {},
   "outputs": [
    {
     "ename": "OperationalError",
     "evalue": "no such table: users",
     "output_type": "error",
     "traceback": [
      "\u001b[0;31m---------------------------------------------------------------------------\u001b[0m",
      "\u001b[0;31mOperationalError\u001b[0m                          Traceback (most recent call last)",
      "\u001b[0;32m<ipython-input-18-860e2c506e61>\u001b[0m in \u001b[0;36m<module>\u001b[0;34m()\u001b[0m\n\u001b[1;32m      1\u001b[0m \u001b[0;32mwith\u001b[0m \u001b[0msqlite3\u001b[0m\u001b[0;34m.\u001b[0m\u001b[0mconnect\u001b[0m\u001b[0;34m(\u001b[0m\u001b[0;34m'example.db'\u001b[0m\u001b[0;34m)\u001b[0m \u001b[0;32mas\u001b[0m \u001b[0mconn\u001b[0m\u001b[0;34m:\u001b[0m\u001b[0;34m\u001b[0m\u001b[0m\n\u001b[0;32m----> 2\u001b[0;31m     \u001b[0mselect_all_students\u001b[0m\u001b[0;34m(\u001b[0m\u001b[0mconn\u001b[0m\u001b[0;34m)\u001b[0m\u001b[0;34m\u001b[0m\u001b[0m\n\u001b[0m",
      "\u001b[0;32m<ipython-input-8-b40fb5a5c38a>\u001b[0m in \u001b[0;36mselect_all_students\u001b[0;34m(conn)\u001b[0m\n\u001b[1;32m      4\u001b[0m                WHERE profile = (SELECT id FROM user_types WHERE name = 'Student')'''\n\u001b[1;32m      5\u001b[0m     \u001b[0mcur\u001b[0m \u001b[0;34m=\u001b[0m \u001b[0mconn\u001b[0m\u001b[0;34m.\u001b[0m\u001b[0mcursor\u001b[0m\u001b[0;34m(\u001b[0m\u001b[0;34m)\u001b[0m\u001b[0;34m\u001b[0m\u001b[0m\n\u001b[0;32m----> 6\u001b[0;31m     \u001b[0mcur\u001b[0m\u001b[0;34m.\u001b[0m\u001b[0mexecute\u001b[0m\u001b[0;34m(\u001b[0m\u001b[0mquery\u001b[0m\u001b[0;34m)\u001b[0m\u001b[0;34m\u001b[0m\u001b[0m\n\u001b[0m\u001b[1;32m      7\u001b[0m \u001b[0;34m\u001b[0m\u001b[0m\n\u001b[1;32m      8\u001b[0m     \u001b[0;31m# А лучше просто проитерироваться\u001b[0m\u001b[0;34m\u001b[0m\u001b[0;34m\u001b[0m\u001b[0m\n",
      "\u001b[0;31mOperationalError\u001b[0m: no such table: users"
     ]
    }
   ],
   "source": [
    "with sqlite3.connect('example.db') as conn:\n",
    "    select_all_students(conn)"
   ]
  },
  {
   "cell_type": "markdown",
   "metadata": {},
   "source": [
    "Where is my table, Lebowski???"
   ]
  },
  {
   "cell_type": "markdown",
   "metadata": {
    "slideshow": {
     "slide_type": "subslide"
    }
   },
   "source": [
    "<img src=\"https://imgs.xkcd.com/comics/exploits_of_a_mom.png\">"
   ]
  },
  {
   "cell_type": "markdown",
   "metadata": {
    "slideshow": {
     "slide_type": "slide"
    }
   },
   "source": [
    "# Работа с <имя вашей любиной базы>\n",
    "\n",
    "Почти ничем не отличается от SQLite.*\n",
    "\n",
    "\\* В случае, если поддержан [Python DB API 2.0](https://www.python.org/dev/peps/pep-0249/)"
   ]
  },
  {
   "cell_type": "markdown",
   "metadata": {},
   "source": [
    "PostgreSQL: [psycopg2](http://initd.org/psycopg/)\n",
    "<img src=\"pictures/postgresql.jpg\">"
   ]
  },
  {
   "cell_type": "code",
   "execution_count": 150,
   "metadata": {
    "slideshow": {
     "slide_type": "subslide"
    }
   },
   "outputs": [],
   "source": [
    "try:\n",
    "    import psycopg2\n",
    "except:\n",
    "    !pip install psycopg2-binary"
   ]
  },
  {
   "cell_type": "code",
   "execution_count": 151,
   "metadata": {},
   "outputs": [
    {
     "name": "stdout",
     "output_type": "stream",
     "text": [
      "('Hello, world!', 42)\n"
     ]
    }
   ],
   "source": [
    "# Поменялся способ подключения. \n",
    "# Теперь указываем не файл, а хост, базу, пользователя и пароль.\n",
    "# Чтобы это работало, должен быть запущен psqld.\n",
    "# Также, нужно создать пользователя с паролем и базу.\n",
    "with psycopg2.connect(dbname='testdb', user='testuser', \n",
    "                      host='localhost', password='testuser') as conn:\n",
    "    \n",
    "    # А остальной интерфейс сохранился.\n",
    "    cur = conn.cursor()\n",
    "    cur.execute(\"select 'Hello, world!', 6 * 7\")\n",
    "    print(cur.fetchone())"
   ]
  },
  {
   "cell_type": "markdown",
   "metadata": {},
   "source": [
    "[Как установить PostgreSQL в Ubuntu и добавить пользователя](https://www.digitalocean.com/community/tutorials/postgresql-ubuntu-16-04-ru#создание-новой-роли)"
   ]
  },
  {
   "cell_type": "markdown",
   "metadata": {
    "slideshow": {
     "slide_type": "subslide"
    }
   },
   "source": [
    "Создадим таблички"
   ]
  },
  {
   "cell_type": "code",
   "execution_count": 153,
   "metadata": {},
   "outputs": [],
   "source": [
    "with psycopg2.connect(dbname='testdb', user='testuser', host='localhost', password='testuser') as conn:\n",
    "    \n",
    "    cur = conn.cursor()\n",
    "    \n",
    "    # Удалим старые таблицы, если есть.\n",
    "    cur.execute('DROP TABLE IF EXISTS users')\n",
    "    cur.execute('DROP TABLE IF EXISTS user_types')\n",
    "    \n",
    "    # SQL диалект может немного меняться\n",
    "    # Используем тип SERIAL вместо свойстав AUTOINCREMENT\n",
    "    cur.execute('''\n",
    "        CREATE TABLE user_types (\n",
    "            id SERIAL PRIMARY KEY,\n",
    "            name VARCHAR(255)\n",
    "        )\n",
    "    ''')\n",
    "    cur.execute('''\n",
    "        CREATE TABLE users (\n",
    "            id SERIAL PRIMARY KEY,\n",
    "            first_name VARCHAR(255),\n",
    "            last_name VARCHAR(255),\n",
    "            active BOOLEAN,\n",
    "            profile INTEGER,\n",
    "            FOREIGN KEY(profile) REFERENCES user_types(id)\n",
    "        )\n",
    "    ''')"
   ]
  },
  {
   "cell_type": "markdown",
   "metadata": {
    "slideshow": {
     "slide_type": "subslide"
    }
   },
   "source": [
    "Многие запросы работают без изменений."
   ]
  },
  {
   "cell_type": "code",
   "execution_count": 154,
   "metadata": {},
   "outputs": [
    {
     "name": "stdout",
     "output_type": "stream",
     "text": [
      "Ivan Ivanov\n",
      "Petr Petrov\n",
      "Petr Sidorov\n"
     ]
    }
   ],
   "source": [
    "with psycopg2.connect(dbname='testdb', user='testuser', host='localhost', password='testuser') as conn:\n",
    "    cur = conn.cursor()\n",
    "    \n",
    "    add_user_types(cur)\n",
    "    add_teachers(cur)\n",
    "    add_strudents(cur)\n",
    "    conn.commit()\n",
    "    \n",
    "    select_all_students(conn)"
   ]
  },
  {
   "cell_type": "markdown",
   "metadata": {
    "slideshow": {
     "slide_type": "slide"
    }
   },
   "source": [
    "# SQLAlchemy"
   ]
  },
  {
   "cell_type": "markdown",
   "metadata": {},
   "source": [
    "<img src='pictures/sql_alchemy.png' />"
   ]
  },
  {
   "cell_type": "code",
   "execution_count": 29,
   "metadata": {},
   "outputs": [],
   "source": [
    "import sqlalchemy\n",
    "from sqlalchemy import create_engine"
   ]
  },
  {
   "cell_type": "code",
   "execution_count": 36,
   "metadata": {},
   "outputs": [],
   "source": [
    "engine = create_engine('sqlite:///example_alchemy.db', echo=True)\n",
    "# engine = create_engine('sqlite:///:memory:', echo=True)\n",
    "\n",
    "# echo=True - для дополнительного логгирования"
   ]
  },
  {
   "cell_type": "markdown",
   "metadata": {
    "slideshow": {
     "slide_type": "subslide"
    }
   },
   "source": [
    "#### Опишем данные, которые хотим хранить"
   ]
  },
  {
   "cell_type": "code",
   "execution_count": 37,
   "metadata": {},
   "outputs": [],
   "source": [
    "from sqlalchemy.ext.declarative import declarative_base\n",
    "from sqlalchemy import Column, Integer, String, Boolean, ForeignKey\n",
    "from sqlalchemy.orm import relationship\n",
    "\n",
    "Base = declarative_base()\n",
    "\n",
    "class UserType(Base):\n",
    "    __tablename__ = 'user_types'\n",
    "    \n",
    "    id = Column(Integer, primary_key=True)\n",
    "    name = Column(String)\n",
    "    users = relationship(\"User\")\n",
    "    \n",
    "    def __repr__(self):\n",
    "        return \"<UserType(name={})>\".format(self.name)  \n",
    "\n",
    "class User(Base):\n",
    "    __tablename__ = 'users'\n",
    "    \n",
    "    id = Column(Integer, primary_key=True)\n",
    "    first_name = Column(String)\n",
    "    last_name = Column(String)\n",
    "    active = Column(Boolean)\n",
    "    profile_id = Column(Integer, ForeignKey('user_types.id'))\n",
    "    profile = relationship(\"UserType\", back_populates=\"users\")\n",
    "    \n",
    "    def __repr__(self):\n",
    "        return \"<User(first_name={}, last_name={}, active={})>\"\\\n",
    "            .format(self.first_name, self.last_name, self.active)\n",
    "    "
   ]
  },
  {
   "cell_type": "code",
   "execution_count": 38,
   "metadata": {
    "slideshow": {
     "slide_type": "subslide"
    }
   },
   "outputs": [
    {
     "data": {
      "text/plain": [
       "Table('users', MetaData(bind=None), Column('id', Integer(), table=<users>, primary_key=True, nullable=False), Column('first_name', String(), table=<users>), Column('last_name', String(), table=<users>), Column('active', Boolean(), table=<users>), Column('profile_id', Integer(), ForeignKey('user_types.id'), table=<users>), schema=None)"
      ]
     },
     "execution_count": 38,
     "metadata": {},
     "output_type": "execute_result"
    }
   ],
   "source": [
    "User.__table__"
   ]
  },
  {
   "cell_type": "markdown",
   "metadata": {
    "slideshow": {
     "slide_type": "subslide"
    }
   },
   "source": [
    "#### Создадим таблицы в базе"
   ]
  },
  {
   "cell_type": "code",
   "execution_count": 43,
   "metadata": {
    "slideshow": {
     "slide_type": "-"
    }
   },
   "outputs": [
    {
     "name": "stdout",
     "output_type": "stream",
     "text": [
      "2019-04-08 19:16:17,818 INFO sqlalchemy.engine.base.Engine PRAGMA table_info(\"user_types\")\n",
      "2019-04-08 19:16:17,822 INFO sqlalchemy.engine.base.Engine ()\n",
      "2019-04-08 19:16:17,825 INFO sqlalchemy.engine.base.Engine PRAGMA table_info(\"users\")\n",
      "2019-04-08 19:16:17,827 INFO sqlalchemy.engine.base.Engine ()\n",
      "2019-04-08 19:16:17,829 INFO sqlalchemy.engine.base.Engine \n",
      "CREATE TABLE user_types (\n",
      "\tid INTEGER NOT NULL, \n",
      "\tname VARCHAR, \n",
      "\tPRIMARY KEY (id)\n",
      ")\n",
      "\n",
      "\n",
      "2019-04-08 19:16:17,831 INFO sqlalchemy.engine.base.Engine ()\n",
      "2019-04-08 19:16:17,839 INFO sqlalchemy.engine.base.Engine COMMIT\n",
      "2019-04-08 19:16:17,841 INFO sqlalchemy.engine.base.Engine \n",
      "CREATE TABLE users (\n",
      "\tid INTEGER NOT NULL, \n",
      "\tfirst_name VARCHAR, \n",
      "\tlast_name VARCHAR, \n",
      "\tactive BOOLEAN, \n",
      "\tprofile_id INTEGER, \n",
      "\tPRIMARY KEY (id), \n",
      "\tCHECK (active IN (0, 1)), \n",
      "\tFOREIGN KEY(profile_id) REFERENCES user_types (id)\n",
      ")\n",
      "\n",
      "\n",
      "2019-04-08 19:16:17,842 INFO sqlalchemy.engine.base.Engine ()\n",
      "2019-04-08 19:16:17,851 INFO sqlalchemy.engine.base.Engine COMMIT\n"
     ]
    }
   ],
   "source": [
    "Base.metadata.create_all(engine)"
   ]
  },
  {
   "cell_type": "markdown",
   "metadata": {
    "slideshow": {
     "slide_type": "subslide"
    }
   },
   "source": [
    "Вставим данные"
   ]
  },
  {
   "cell_type": "code",
   "execution_count": 44,
   "metadata": {},
   "outputs": [
    {
     "name": "stdout",
     "output_type": "stream",
     "text": [
      "2019-04-08 19:18:11,134 INFO sqlalchemy.engine.base.Engine BEGIN (implicit)\n",
      "2019-04-08 19:18:11,138 INFO sqlalchemy.engine.base.Engine INSERT INTO user_types (name) VALUES (?)\n",
      "2019-04-08 19:18:11,141 INFO sqlalchemy.engine.base.Engine ('teacher',)\n",
      "2019-04-08 19:18:11,143 INFO sqlalchemy.engine.base.Engine INSERT INTO user_types (name) VALUES (?)\n",
      "2019-04-08 19:18:11,145 INFO sqlalchemy.engine.base.Engine ('student',)\n",
      "2019-04-08 19:18:11,149 INFO sqlalchemy.engine.base.Engine COMMIT\n"
     ]
    }
   ],
   "source": [
    "from sqlalchemy.orm import sessionmaker\n",
    "\n",
    "Session = sessionmaker(bind=engine)\n",
    "session = Session()\n",
    "\n",
    "teacher = UserType(name='teacher')\n",
    "session.add(teacher)\n",
    "\n",
    "student = UserType(name='student')\n",
    "session.add(student)\n",
    "\n",
    "session.commit()"
   ]
  },
  {
   "cell_type": "markdown",
   "metadata": {
    "slideshow": {
     "slide_type": "subslide"
    }
   },
   "source": [
    "Найдем тип учителя в базе"
   ]
  },
  {
   "cell_type": "code",
   "execution_count": 46,
   "metadata": {},
   "outputs": [
    {
     "name": "stdout",
     "output_type": "stream",
     "text": [
      "2019-04-08 19:20:53,744 INFO sqlalchemy.engine.base.Engine SELECT user_types.id AS user_types_id, user_types.name AS user_types_name \n",
      "FROM user_types \n",
      "WHERE user_types.name = ?\n",
      " LIMIT ? OFFSET ?\n",
      "2019-04-08 19:20:53,746 INFO sqlalchemy.engine.base.Engine ('teacher', 1, 0)\n"
     ]
    },
    {
     "data": {
      "text/plain": [
       "<UserType(name=teacher)>"
      ]
     },
     "execution_count": 46,
     "metadata": {},
     "output_type": "execute_result"
    }
   ],
   "source": [
    "#     SELECT * FROM USERTYPE WHERE NAME == \"TEACHER\" TOP 1  \n",
    "res = session.query(UserType).filter_by(name='teacher').first() \n",
    "res"
   ]
  },
  {
   "cell_type": "code",
   "execution_count": 47,
   "metadata": {},
   "outputs": [
    {
     "data": {
      "text/plain": [
       "True"
      ]
     },
     "execution_count": 47,
     "metadata": {},
     "output_type": "execute_result"
    }
   ],
   "source": [
    "teacher is res"
   ]
  },
  {
   "cell_type": "markdown",
   "metadata": {
    "slideshow": {
     "slide_type": "subslide"
    }
   },
   "source": [
    "one vs first"
   ]
  },
  {
   "cell_type": "code",
   "execution_count": 10,
   "metadata": {},
   "outputs": [
    {
     "name": "stdout",
     "output_type": "stream",
     "text": [
      "2019-04-07 10:46:00,036 INFO sqlalchemy.engine.base.Engine SELECT user_types.id AS user_types_id, user_types.name AS user_types_name \n",
      "FROM user_types \n",
      "WHERE user_types.name = ?\n",
      "2019-04-07 10:46:00,038 INFO sqlalchemy.engine.base.Engine ('teacher12',)\n"
     ]
    },
    {
     "ename": "NoResultFound",
     "evalue": "No row was found for one()",
     "output_type": "error",
     "traceback": [
      "\u001b[0;31m---------------------------------------------------------------------------\u001b[0m",
      "\u001b[0;31mNoResultFound\u001b[0m                             Traceback (most recent call last)",
      "\u001b[0;32m<ipython-input-10-8fbb4c47e40b>\u001b[0m in \u001b[0;36m<module>\u001b[0;34m()\u001b[0m\n\u001b[0;32m----> 1\u001b[0;31m \u001b[0msession\u001b[0m\u001b[0;34m.\u001b[0m\u001b[0mquery\u001b[0m\u001b[0;34m(\u001b[0m\u001b[0mUserType\u001b[0m\u001b[0;34m)\u001b[0m\u001b[0;34m.\u001b[0m\u001b[0mfilter_by\u001b[0m\u001b[0;34m(\u001b[0m\u001b[0mname\u001b[0m\u001b[0;34m=\u001b[0m\u001b[0;34m'teacher12'\u001b[0m\u001b[0;34m)\u001b[0m\u001b[0;34m.\u001b[0m\u001b[0mone\u001b[0m\u001b[0;34m(\u001b[0m\u001b[0;34m)\u001b[0m\u001b[0;34m\u001b[0m\u001b[0m\n\u001b[0m",
      "\u001b[0;32m~/workspace/shad/lib/python3.5/site-packages/sqlalchemy/orm/query.py\u001b[0m in \u001b[0;36mone\u001b[0;34m(self)\u001b[0m\n\u001b[1;32m   2958\u001b[0m         \u001b[0;32melse\u001b[0m\u001b[0;34m:\u001b[0m\u001b[0;34m\u001b[0m\u001b[0m\n\u001b[1;32m   2959\u001b[0m             \u001b[0;32mif\u001b[0m \u001b[0mret\u001b[0m \u001b[0;32mis\u001b[0m \u001b[0;32mNone\u001b[0m\u001b[0;34m:\u001b[0m\u001b[0;34m\u001b[0m\u001b[0m\n\u001b[0;32m-> 2960\u001b[0;31m                 \u001b[0;32mraise\u001b[0m \u001b[0morm_exc\u001b[0m\u001b[0;34m.\u001b[0m\u001b[0mNoResultFound\u001b[0m\u001b[0;34m(\u001b[0m\u001b[0;34m\"No row was found for one()\"\u001b[0m\u001b[0;34m)\u001b[0m\u001b[0;34m\u001b[0m\u001b[0m\n\u001b[0m\u001b[1;32m   2961\u001b[0m             \u001b[0;32mreturn\u001b[0m \u001b[0mret\u001b[0m\u001b[0;34m\u001b[0m\u001b[0m\n\u001b[1;32m   2962\u001b[0m \u001b[0;34m\u001b[0m\u001b[0m\n",
      "\u001b[0;31mNoResultFound\u001b[0m: No row was found for one()"
     ]
    }
   ],
   "source": [
    "session.query(UserType).filter_by(name='teacher12').one() "
   ]
  },
  {
   "cell_type": "code",
   "execution_count": 11,
   "metadata": {
    "slideshow": {
     "slide_type": "subslide"
    }
   },
   "outputs": [
    {
     "name": "stdout",
     "output_type": "stream",
     "text": [
      "2019-04-07 10:46:00,365 INFO sqlalchemy.engine.base.Engine SELECT user_types.id AS user_types_id, user_types.name AS user_types_name \n",
      "FROM user_types\n",
      "2019-04-07 10:46:00,372 INFO sqlalchemy.engine.base.Engine ()\n"
     ]
    },
    {
     "ename": "MultipleResultsFound",
     "evalue": "Multiple rows were found for one()",
     "output_type": "error",
     "traceback": [
      "\u001b[0;31m---------------------------------------------------------------------------\u001b[0m",
      "\u001b[0;31mMultipleResultsFound\u001b[0m                      Traceback (most recent call last)",
      "\u001b[0;32m~/workspace/shad/lib/python3.5/site-packages/sqlalchemy/orm/query.py\u001b[0m in \u001b[0;36mone\u001b[0;34m(self)\u001b[0m\n\u001b[1;32m   2953\u001b[0m         \u001b[0;32mtry\u001b[0m\u001b[0;34m:\u001b[0m\u001b[0;34m\u001b[0m\u001b[0m\n\u001b[0;32m-> 2954\u001b[0;31m             \u001b[0mret\u001b[0m \u001b[0;34m=\u001b[0m \u001b[0mself\u001b[0m\u001b[0;34m.\u001b[0m\u001b[0mone_or_none\u001b[0m\u001b[0;34m(\u001b[0m\u001b[0;34m)\u001b[0m\u001b[0;34m\u001b[0m\u001b[0m\n\u001b[0m\u001b[1;32m   2955\u001b[0m         \u001b[0;32mexcept\u001b[0m \u001b[0morm_exc\u001b[0m\u001b[0;34m.\u001b[0m\u001b[0mMultipleResultsFound\u001b[0m\u001b[0;34m:\u001b[0m\u001b[0;34m\u001b[0m\u001b[0m\n",
      "\u001b[0;32m~/workspace/shad/lib/python3.5/site-packages/sqlalchemy/orm/query.py\u001b[0m in \u001b[0;36mone_or_none\u001b[0;34m(self)\u001b[0m\n\u001b[1;32m   2932\u001b[0m             raise orm_exc.MultipleResultsFound(\n\u001b[0;32m-> 2933\u001b[0;31m                 \"Multiple rows were found for one_or_none()\")\n\u001b[0m\u001b[1;32m   2934\u001b[0m \u001b[0;34m\u001b[0m\u001b[0m\n",
      "\u001b[0;31mMultipleResultsFound\u001b[0m: Multiple rows were found for one_or_none()",
      "\nDuring handling of the above exception, another exception occurred:\n",
      "\u001b[0;31mMultipleResultsFound\u001b[0m                      Traceback (most recent call last)",
      "\u001b[0;32m<ipython-input-11-dcaa231fb083>\u001b[0m in \u001b[0;36m<module>\u001b[0;34m()\u001b[0m\n\u001b[0;32m----> 1\u001b[0;31m \u001b[0msession\u001b[0m\u001b[0;34m.\u001b[0m\u001b[0mquery\u001b[0m\u001b[0;34m(\u001b[0m\u001b[0mUserType\u001b[0m\u001b[0;34m)\u001b[0m\u001b[0;34m.\u001b[0m\u001b[0mone\u001b[0m\u001b[0;34m(\u001b[0m\u001b[0;34m)\u001b[0m\u001b[0;34m\u001b[0m\u001b[0m\n\u001b[0m",
      "\u001b[0;32m~/workspace/shad/lib/python3.5/site-packages/sqlalchemy/orm/query.py\u001b[0m in \u001b[0;36mone\u001b[0;34m(self)\u001b[0m\n\u001b[1;32m   2955\u001b[0m         \u001b[0;32mexcept\u001b[0m \u001b[0morm_exc\u001b[0m\u001b[0;34m.\u001b[0m\u001b[0mMultipleResultsFound\u001b[0m\u001b[0;34m:\u001b[0m\u001b[0;34m\u001b[0m\u001b[0m\n\u001b[1;32m   2956\u001b[0m             raise orm_exc.MultipleResultsFound(\n\u001b[0;32m-> 2957\u001b[0;31m                 \"Multiple rows were found for one()\")\n\u001b[0m\u001b[1;32m   2958\u001b[0m         \u001b[0;32melse\u001b[0m\u001b[0;34m:\u001b[0m\u001b[0;34m\u001b[0m\u001b[0m\n\u001b[1;32m   2959\u001b[0m             \u001b[0;32mif\u001b[0m \u001b[0mret\u001b[0m \u001b[0;32mis\u001b[0m \u001b[0;32mNone\u001b[0m\u001b[0;34m:\u001b[0m\u001b[0;34m\u001b[0m\u001b[0m\n",
      "\u001b[0;31mMultipleResultsFound\u001b[0m: Multiple rows were found for one()"
     ]
    }
   ],
   "source": [
    "session.query(UserType).one() "
   ]
  },
  {
   "cell_type": "markdown",
   "metadata": {
    "slideshow": {
     "slide_type": "subslide"
    }
   },
   "source": [
    "Разные виды \"select\""
   ]
  },
  {
   "cell_type": "code",
   "execution_count": 48,
   "metadata": {},
   "outputs": [
    {
     "name": "stdout",
     "output_type": "stream",
     "text": [
      "2019-04-08 19:23:09,372 INFO sqlalchemy.engine.base.Engine SELECT user_types.id AS user_types_id, user_types.name AS user_types_name \n",
      "FROM user_types \n",
      "WHERE user_types.name = ? ORDER BY user_types.id\n",
      "2019-04-08 19:23:09,374 INFO sqlalchemy.engine.base.Engine ('student',)\n",
      "<class 'list'>\n",
      "[<UserType(name=student)>]\n"
     ]
    }
   ],
   "source": [
    "results = session.query(UserType).filter_by(name=\"student\").order_by(UserType.id).all()\n",
    "print(type(results))\n",
    "print(results)"
   ]
  },
  {
   "cell_type": "code",
   "execution_count": 13,
   "metadata": {},
   "outputs": [
    {
     "name": "stdout",
     "output_type": "stream",
     "text": [
      "2019-04-07 10:46:01,275 INFO sqlalchemy.engine.base.Engine SELECT user_types.name AS user_types_name, user_types.id AS user_types_id \n",
      "FROM user_types ORDER BY user_types.name\n",
      "2019-04-07 10:46:01,277 INFO sqlalchemy.engine.base.Engine ()\n",
      "student 2\n",
      "teacher 1\n"
     ]
    }
   ],
   "source": [
    "for name, user_id in session.query(UserType.name, UserType.id).order_by(UserType.name):\n",
    "    print(name, user_id)"
   ]
  },
  {
   "cell_type": "markdown",
   "metadata": {
    "slideshow": {
     "slide_type": "subslide"
    }
   },
   "source": [
    "#### Добавим нового учителя"
   ]
  },
  {
   "cell_type": "code",
   "execution_count": 14,
   "metadata": {},
   "outputs": [
    {
     "name": "stdout",
     "output_type": "stream",
     "text": [
      "2019-04-07 10:46:02,287 INFO sqlalchemy.engine.base.Engine SELECT users.id AS users_id, users.first_name AS users_first_name, users.last_name AS users_last_name, users.active AS users_active, users.profile_id AS users_profile_id \n",
      "FROM users \n",
      "WHERE ? = users.profile_id\n",
      "2019-04-07 10:46:02,290 INFO sqlalchemy.engine.base.Engine (1,)\n",
      "2019-04-07 10:46:02,295 INFO sqlalchemy.engine.base.Engine INSERT INTO users (first_name, last_name, active, profile_id) VALUES (?, ?, ?, ?)\n",
      "2019-04-07 10:46:02,296 INFO sqlalchemy.engine.base.Engine ('Maxim', 'Popov', 1, 1)\n",
      "2019-04-07 10:46:02,298 INFO sqlalchemy.engine.base.Engine COMMIT\n"
     ]
    }
   ],
   "source": [
    "user = User(first_name=\"Maxim\", last_name=\"Popov\", active=True)\n",
    "teacher.users.append(user)\n",
    "session.add(user)\n",
    "session.commit()"
   ]
  },
  {
   "cell_type": "code",
   "execution_count": 15,
   "metadata": {},
   "outputs": [
    {
     "name": "stdout",
     "output_type": "stream",
     "text": [
      "2019-04-07 10:46:03,457 INFO sqlalchemy.engine.base.Engine BEGIN (implicit)\n",
      "2019-04-07 10:46:03,460 INFO sqlalchemy.engine.base.Engine SELECT users.id AS users_id, users.first_name AS users_first_name, users.last_name AS users_last_name, users.active AS users_active, users.profile_id AS users_profile_id \n",
      "FROM users\n",
      " LIMIT ? OFFSET ?\n",
      "2019-04-07 10:46:03,461 INFO sqlalchemy.engine.base.Engine (1, 0)\n"
     ]
    },
    {
     "data": {
      "text/plain": [
       "<User(first_name=Maxim, last_name=Popov, active=True)>"
      ]
     },
     "execution_count": 15,
     "metadata": {},
     "output_type": "execute_result"
    }
   ],
   "source": [
    "res = session.query(User).first() \n",
    "res"
   ]
  },
  {
   "cell_type": "code",
   "execution_count": 16,
   "metadata": {},
   "outputs": [
    {
     "name": "stdout",
     "output_type": "stream",
     "text": [
      "2019-04-07 10:46:06,300 INFO sqlalchemy.engine.base.Engine SELECT user_types.id AS user_types_id, user_types.name AS user_types_name \n",
      "FROM user_types \n",
      "WHERE user_types.id = ?\n",
      "2019-04-07 10:46:06,306 INFO sqlalchemy.engine.base.Engine (1,)\n"
     ]
    },
    {
     "data": {
      "text/plain": [
       "<UserType(name=teacher)>"
      ]
     },
     "execution_count": 16,
     "metadata": {},
     "output_type": "execute_result"
    }
   ],
   "source": [
    "res.profile"
   ]
  },
  {
   "cell_type": "markdown",
   "metadata": {
    "slideshow": {
     "slide_type": "subslide"
    }
   },
   "source": [
    "Добавим студента"
   ]
  },
  {
   "cell_type": "code",
   "execution_count": 17,
   "metadata": {},
   "outputs": [
    {
     "name": "stdout",
     "output_type": "stream",
     "text": [
      "2019-04-07 10:46:06,613 INFO sqlalchemy.engine.base.Engine SELECT user_types.id AS user_types_id, user_types.name AS user_types_name \n",
      "FROM user_types \n",
      "WHERE user_types.id = ?\n",
      "2019-04-07 10:46:06,619 INFO sqlalchemy.engine.base.Engine (2,)\n",
      "2019-04-07 10:46:06,624 INFO sqlalchemy.engine.base.Engine INSERT INTO users (first_name, last_name, active, profile_id) VALUES (?, ?, ?, ?)\n",
      "2019-04-07 10:46:06,629 INFO sqlalchemy.engine.base.Engine ('Petr', 'Sidorov', 0, 2)\n",
      "2019-04-07 10:46:06,633 INFO sqlalchemy.engine.base.Engine COMMIT\n"
     ]
    }
   ],
   "source": [
    "user = User(first_name=\"Petr\", last_name=\"Sidorov\", active=False, profile=student)\n",
    "session.add(user)\n",
    "session.commit()"
   ]
  },
  {
   "cell_type": "code",
   "execution_count": 18,
   "metadata": {
    "slideshow": {
     "slide_type": "subslide"
    }
   },
   "outputs": [
    {
     "name": "stdout",
     "output_type": "stream",
     "text": [
      "2019-04-07 10:46:06,774 INFO sqlalchemy.engine.base.Engine BEGIN (implicit)\n",
      "2019-04-07 10:46:06,777 INFO sqlalchemy.engine.base.Engine SELECT user_types.id AS user_types_id, user_types.name AS user_types_name \n",
      "FROM user_types \n",
      "WHERE user_types.id = ?\n",
      "2019-04-07 10:46:06,783 INFO sqlalchemy.engine.base.Engine (2,)\n",
      "2019-04-07 10:46:06,788 INFO sqlalchemy.engine.base.Engine SELECT users.id AS users_id, users.first_name AS users_first_name, users.last_name AS users_last_name, users.active AS users_active, users.profile_id AS users_profile_id \n",
      "FROM users \n",
      "WHERE ? = users.profile_id\n",
      "2019-04-07 10:46:06,789 INFO sqlalchemy.engine.base.Engine (2,)\n"
     ]
    },
    {
     "data": {
      "text/plain": [
       "[<User(first_name=Petr, last_name=Sidorov, active=False)>]"
      ]
     },
     "execution_count": 18,
     "metadata": {},
     "output_type": "execute_result"
    }
   ],
   "source": [
    "student.users"
   ]
  },
  {
   "cell_type": "markdown",
   "metadata": {
    "slideshow": {
     "slide_type": "subslide"
    }
   },
   "source": [
    "Сделаем его учителем"
   ]
  },
  {
   "cell_type": "code",
   "execution_count": 19,
   "metadata": {},
   "outputs": [
    {
     "name": "stdout",
     "output_type": "stream",
     "text": [
      "2019-04-07 10:46:08,056 INFO sqlalchemy.engine.base.Engine SELECT user_types.id AS user_types_id, user_types.name AS user_types_name \n",
      "FROM user_types \n",
      "WHERE user_types.id = ?\n",
      "2019-04-07 10:46:08,061 INFO sqlalchemy.engine.base.Engine (1,)\n",
      "2019-04-07 10:46:08,067 INFO sqlalchemy.engine.base.Engine UPDATE users SET profile_id=? WHERE users.id = ?\n",
      "2019-04-07 10:46:08,072 INFO sqlalchemy.engine.base.Engine (1, 2)\n",
      "2019-04-07 10:46:08,081 INFO sqlalchemy.engine.base.Engine COMMIT\n"
     ]
    }
   ],
   "source": [
    "user.profile = teacher\n",
    "session.commit()"
   ]
  },
  {
   "cell_type": "code",
   "execution_count": 20,
   "metadata": {
    "slideshow": {
     "slide_type": "subslide"
    }
   },
   "outputs": [
    {
     "name": "stdout",
     "output_type": "stream",
     "text": [
      "2019-04-07 10:46:08,226 INFO sqlalchemy.engine.base.Engine BEGIN (implicit)\n",
      "2019-04-07 10:46:08,228 INFO sqlalchemy.engine.base.Engine SELECT user_types.id AS user_types_id, user_types.name AS user_types_name \n",
      "FROM user_types \n",
      "WHERE user_types.id = ?\n",
      "2019-04-07 10:46:08,229 INFO sqlalchemy.engine.base.Engine (2,)\n",
      "2019-04-07 10:46:08,233 INFO sqlalchemy.engine.base.Engine SELECT users.id AS users_id, users.first_name AS users_first_name, users.last_name AS users_last_name, users.active AS users_active, users.profile_id AS users_profile_id \n",
      "FROM users \n",
      "WHERE ? = users.profile_id\n",
      "2019-04-07 10:46:08,234 INFO sqlalchemy.engine.base.Engine (2,)\n"
     ]
    },
    {
     "data": {
      "text/plain": [
       "[]"
      ]
     },
     "execution_count": 20,
     "metadata": {},
     "output_type": "execute_result"
    }
   ],
   "source": [
    "student.users"
   ]
  },
  {
   "cell_type": "code",
   "execution_count": 21,
   "metadata": {
    "slideshow": {
     "slide_type": "subslide"
    }
   },
   "outputs": [
    {
     "name": "stdout",
     "output_type": "stream",
     "text": [
      "2019-04-07 10:46:08,511 INFO sqlalchemy.engine.base.Engine SELECT user_types.id AS user_types_id, user_types.name AS user_types_name \n",
      "FROM user_types \n",
      "WHERE user_types.id = ?\n",
      "2019-04-07 10:46:08,515 INFO sqlalchemy.engine.base.Engine (1,)\n",
      "2019-04-07 10:46:08,521 INFO sqlalchemy.engine.base.Engine SELECT users.id AS users_id, users.first_name AS users_first_name, users.last_name AS users_last_name, users.active AS users_active, users.profile_id AS users_profile_id \n",
      "FROM users \n",
      "WHERE ? = users.profile_id\n",
      "2019-04-07 10:46:08,523 INFO sqlalchemy.engine.base.Engine (1,)\n"
     ]
    },
    {
     "data": {
      "text/plain": [
       "[<User(first_name=Maxim, last_name=Popov, active=True)>,\n",
       " <User(first_name=Petr, last_name=Sidorov, active=False)>]"
      ]
     },
     "execution_count": 21,
     "metadata": {},
     "output_type": "execute_result"
    }
   ],
   "source": [
    "teacher.users"
   ]
  },
  {
   "cell_type": "markdown",
   "metadata": {
    "slideshow": {
     "slide_type": "subslide"
    }
   },
   "source": [
    "Какая еще бывает фильтрация?"
   ]
  },
  {
   "cell_type": "code",
   "execution_count": 22,
   "metadata": {},
   "outputs": [
    {
     "data": {
      "text/plain": [
       "<sqlalchemy.orm.query.Query at 0x7f2296a3bfd0>"
      ]
     },
     "execution_count": 22,
     "metadata": {},
     "output_type": "execute_result"
    }
   ],
   "source": [
    "# equals\n",
    "session.query(UserType).filter(UserType.name == 'teacher')\n",
    "# not equals\n",
    "session.query(UserType).filter(UserType.name != 'teacher')\n",
    "# LIKE\n",
    "session.query(UserType).filter(UserType.name.like('%tea%'))\n",
    "# ILIKE (case-insensitive LIKE):\n",
    "session.query(UserType).filter(UserType.name.ilike('%TeA%'))\n",
    "# IS NULL\n",
    "session.query(UserType).filter(UserType.name.is_(None))\n",
    "# IS NOT NULL\n",
    "session.query(UserType).filter(UserType.name.isnot(None))\n",
    "              \n",
    "from sqlalchemy import and_\n",
    "#AND\n",
    "session.query(UserType).filter(and_(UserType.name.isnot(None), UserType.name != 'abc'))\n",
    "session.query(UserType).filter(UserType.name.isnot(None), UserType.name != 'abc')\n",
    "session.query(UserType).filter(UserType.name.isnot(None)).filter(UserType.name != 'abc')\n",
    "\n",
    "#OR\n",
    "from sqlalchemy import or_\n",
    "session.query(UserType).filter(or_(UserType.name.isnot(None), UserType.name != 'abc'))"
   ]
  },
  {
   "cell_type": "code",
   "execution_count": 23,
   "metadata": {
    "slideshow": {
     "slide_type": "subslide"
    }
   },
   "outputs": [
    {
     "name": "stdout",
     "output_type": "stream",
     "text": [
      "2019-04-07 10:46:12,259 INFO sqlalchemy.engine.base.Engine SELECT users.id AS users_id, users.first_name AS users_first_name, users.last_name AS users_last_name, users.active AS users_active, users.profile_id AS users_profile_id \n",
      "FROM users \n",
      "WHERE users.profile_id IN (SELECT user_types.id AS user_types_id \n",
      "FROM user_types)\n",
      "2019-04-07 10:46:12,262 INFO sqlalchemy.engine.base.Engine ()\n"
     ]
    },
    {
     "data": {
      "text/plain": [
       "[<User(first_name=Maxim, last_name=Popov, active=True)>,\n",
       " <User(first_name=Petr, last_name=Sidorov, active=False)>]"
      ]
     },
     "execution_count": 23,
     "metadata": {},
     "output_type": "execute_result"
    }
   ],
   "source": [
    "#IN\n",
    "session.query(User).filter(User.profile_id.in_(\n",
    "    session.query(UserType.id)\n",
    ")).all()"
   ]
  },
  {
   "cell_type": "code",
   "execution_count": null,
   "metadata": {},
   "outputs": [],
   "source": []
  }
 ],
 "metadata": {
  "celltoolbar": "Slideshow",
  "kernelspec": {
   "display_name": "Python 3",
   "language": "python",
   "name": "python3"
  },
  "language_info": {
   "codemirror_mode": {
    "name": "ipython",
    "version": 3
   },
   "file_extension": ".py",
   "mimetype": "text/x-python",
   "name": "python",
   "nbconvert_exporter": "python",
   "pygments_lexer": "ipython3",
   "version": "3.5.2"
  }
 },
 "nbformat": 4,
 "nbformat_minor": 2
}
