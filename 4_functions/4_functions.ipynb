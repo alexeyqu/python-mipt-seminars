{
 "cells": [
  {
   "cell_type": "markdown",
   "metadata": {
    "slideshow": {
     "slide_type": "skip"
    }
   },
   "source": [
    "Функции, генераторы. Scope. Декораторы (лямбды)\n",
    "\n",
    "3. Функции\n",
    "Базовый синтаксис: объявление/вызов, аргументы по умолчанию\n",
    "Рекурсия\n",
    "Передача по ссылке (на самом деле не только про функции, но напомнить)\n",
    "args, kwargs\n",
    "Распаковка в вызове\n",
    "Генераторы\n",
    "Области видимости. global/nonlocal. globals(), locals()\n",
    "Замыкания \n",
    "Функции - тоже объекты\n",
    "Декораторы:\n",
    "Простые \n",
    "С аргументами\n"
   ]
  },
  {
   "cell_type": "markdown",
   "metadata": {
    "slideshow": {
     "slide_type": "skip"
    }
   },
   "source": [
    "# Функции, генераторы, замыкания, декораторы"
   ]
  },
  {
   "cell_type": "markdown",
   "metadata": {
    "slideshow": {
     "slide_type": "slide"
    }
   },
   "source": [
    "# Функции, генераторы, замыкания, декораторы\n",
    "### Содержание\n",
    "\n",
    "* Базовый синтаксис\n",
    "* Аргументы по умолчанию\n",
    "* Переменное число аргументов\n",
    "* Рекурсия\n",
    "* Генераторы\n",
    "* Анонимные функции\n",
    "* Аттрибуты\n",
    "* Области видимости\n",
    "* Замыкания\n",
    "* Декораторы"
   ]
  },
  {
   "cell_type": "markdown",
   "metadata": {
    "slideshow": {
     "slide_type": "slide"
    }
   },
   "source": [
    "## Объявление и вызов функции"
   ]
  },
  {
   "cell_type": "code",
   "execution_count": 1,
   "metadata": {},
   "outputs": [
    {
     "name": "stdout",
     "output_type": "stream",
     "text": [
      "a = 1 b = b\n"
     ]
    }
   ],
   "source": [
    "def foo(a, b):\n",
    "    print('a =', a, 'b =', b)\n",
    "    \n",
    "foo(1, 'b')"
   ]
  },
  {
   "cell_type": "markdown",
   "metadata": {
    "slideshow": {
     "slide_type": "subslide"
    }
   },
   "source": [
    "#### Аргументы по умолчанию"
   ]
  },
  {
   "cell_type": "code",
   "execution_count": 2,
   "metadata": {},
   "outputs": [
    {
     "name": "stdout",
     "output_type": "stream",
     "text": [
      "a = 1 b = b c = 0.5 d = (None,)\n",
      "a = 1 b = b c = 0.3 d = (None,)\n",
      "a = 1 b = b c = 0.5 d = d\n",
      "a = 1 b = b c = 0.3 d = d\n"
     ]
    }
   ],
   "source": [
    "def foo(a, b, c=0.5, d=(None,)):\n",
    "    print('a =', a, 'b =', b, 'c =', c, 'd =', d)\n",
    "    \n",
    "foo(1, 'b')\n",
    "foo(1, 'b', 0.3)\n",
    "foo(1, 'b', d='d')\n",
    "foo(1, d='d', c=0.3, b='b')"
   ]
  },
  {
   "cell_type": "markdown",
   "metadata": {
    "slideshow": {
     "slide_type": "subslide"
    }
   },
   "source": [
    "#### Аргументы передаются по ссылке"
   ]
  },
  {
   "cell_type": "code",
   "execution_count": 24,
   "metadata": {},
   "outputs": [
    {
     "name": "stdout",
     "output_type": "stream",
     "text": [
      "Bruce Willis\n",
      "Chuck Norris\n",
      "Sylvester Stallone\n"
     ]
    },
    {
     "data": {
      "text/plain": [
       "[None, None, None]"
      ]
     },
     "execution_count": 24,
     "metadata": {},
     "output_type": "execute_result"
    }
   ],
   "source": [
    "def get_my_hero_team(team):\n",
    "    team['Chuck'] = 'Norris'\n",
    "    team['Sylvester'] = 'Stallone'\n",
    "    \n",
    "hero_team = {'Bruce': 'Willis', 'Chuck': 'Lorre'}\n",
    "get_my_hero_team(hero_team)\n",
    "\n",
    "[print(*item) for item in hero_team.items()]"
   ]
  },
  {
   "cell_type": "markdown",
   "metadata": {
    "slideshow": {
     "slide_type": "slide"
    }
   },
   "source": [
    "#### Переменное число аргуметнов"
   ]
  },
  {
   "cell_type": "code",
   "execution_count": 3,
   "metadata": {},
   "outputs": [
    {
     "name": "stdout",
     "output_type": "stream",
     "text": [
      "a = 1 b = b args = ()\n",
      "a = 1 b = b args = (0.5,)\n",
      "a = 1 b = b args = ([1, 2], 0.5)\n"
     ]
    }
   ],
   "source": [
    "def foo(a, b, *args):\n",
    "    print('a =', a, 'b =', b, 'args =', args)\n",
    "    \n",
    "foo(1, 'b')\n",
    "foo(1, 'b', 0.5)\n",
    "foo(1, 'b', [1, 2], 0.5)"
   ]
  },
  {
   "cell_type": "code",
   "execution_count": 4,
   "metadata": {},
   "outputs": [
    {
     "name": "stdout",
     "output_type": "stream",
     "text": [
      "a = 1 b = b args = ([1, 2], 0.5)\n"
     ]
    }
   ],
   "source": [
    "def foo(a, *args, b):\n",
    "    print('a =', a, 'b =', b, 'args =', args)\n",
    "    \n",
    "foo(1, [1, 2], 0.5, b='b')"
   ]
  },
  {
   "cell_type": "code",
   "execution_count": 5,
   "metadata": {
    "slideshow": {
     "slide_type": "subslide"
    }
   },
   "outputs": [
    {
     "name": "stdout",
     "output_type": "stream",
     "text": [
      "a = 1 b = 0.5 kwargs = {'c': 'c'}\n",
      "a = 1 b = b kwargs = {'c': 'c'}\n",
      "a = 1 b = b kwargs = {'c': 'c', 'd': 'd'}\n"
     ]
    }
   ],
   "source": [
    "def foo(a, b=0.5, **kwargs):\n",
    "    print('a =', a, 'b =', b, 'kwargs =', kwargs)\n",
    "    \n",
    "foo(1, c='c')\n",
    "foo(1, c='c', b='b')\n",
    "foo(1, 'b', c='c', d='d')"
   ]
  },
  {
   "cell_type": "code",
   "execution_count": 6,
   "metadata": {},
   "outputs": [
    {
     "name": "stdout",
     "output_type": "stream",
     "text": [
      "args = (1, 'a') kwargs = {'x': 0.5, 'y': [3, 4]}\n",
      "args = (1, 'a') kwargs = {'x': 0.5, 'y': [3, 4]}\n"
     ]
    }
   ],
   "source": [
    "def foo(*args, **kwargs):\n",
    "    print('args =', args, 'kwargs =', kwargs)\n",
    "    \n",
    "foo(1, 'a', x=0.5, y=[3, 4])\n",
    "foo(*[1, 'a'], **{'x' : 0.5, 'y': [3, 4]})"
   ]
  },
  {
   "cell_type": "markdown",
   "metadata": {
    "slideshow": {
     "slide_type": "slide"
    }
   },
   "source": [
    "#### Рекурсия"
   ]
  },
  {
   "cell_type": "code",
   "execution_count": 33,
   "metadata": {},
   "outputs": [
    {
     "data": {
      "text/plain": [
       "[1, 2, 3, 4, 5, 7]"
      ]
     },
     "execution_count": 33,
     "metadata": {},
     "output_type": "execute_result"
    }
   ],
   "source": [
    "def easy_sort(x):\n",
    "    if not x:\n",
    "        return x\n",
    "    \n",
    "    first = min(x)\n",
    "    x.remove(first)\n",
    "    return [first] + easy_sort(x)\n",
    "    \n",
    "easy_sort([4, 2, 3, 1, 7, 5])"
   ]
  },
  {
   "cell_type": "code",
   "execution_count": 42,
   "metadata": {},
   "outputs": [],
   "source": [
    "def ackermann(m, n):\n",
    "    if m == 0:\n",
    "        return n + 1\n",
    "    if n == 0:\n",
    "        return ackermann(m - 1, 1)\n",
    "    return ackermann(m - 1, ackermann(m, n - 1))"
   ]
  },
  {
   "cell_type": "code",
   "execution_count": 49,
   "metadata": {},
   "outputs": [
    {
     "name": "stdout",
     "output_type": "stream",
     "text": [
      "5\n",
      "9\n",
      "61\n"
     ]
    }
   ],
   "source": [
    "print(ackermann(1, 3))\n",
    "print(ackermann(2, 3))\n",
    "print(ackermann(3, 3))"
   ]
  },
  {
   "cell_type": "markdown",
   "metadata": {
    "slideshow": {
     "slide_type": "slide"
    }
   },
   "source": [
    "## Генераторы\n",
    "\n",
    "Генератор - функция, возвращающая итератор <br>\n",
    "Итератор - объект, реализующий метод **\\_\\_next\\_\\_**"
   ]
  },
  {
   "cell_type": "code",
   "execution_count": 55,
   "metadata": {},
   "outputs": [
    {
     "name": "stdout",
     "output_type": "stream",
     "text": [
      "<list_iterator object at 0x7ff91ddef908>\n",
      "I am a generator!\n",
      "Hello world! "
     ]
    }
   ],
   "source": [
    "values = ['Hello', 'world!']\n",
    "print(values.__iter__())\n",
    "\n",
    "def foo(x):\n",
    "    print('I am a generator!')\n",
    "    return x.__iter__()\n",
    "\n",
    "for value in foo(values):\n",
    "    print(value, end=' ')"
   ]
  },
  {
   "cell_type": "markdown",
   "metadata": {
    "slideshow": {
     "slide_type": "subslide"
    }
   },
   "source": [
    "#### Ключевое слово **yield**"
   ]
  },
  {
   "cell_type": "code",
   "execution_count": 60,
   "metadata": {
    "slideshow": {
     "slide_type": "-"
    }
   },
   "outputs": [
    {
     "name": "stdout",
     "output_type": "stream",
     "text": [
      "I am the generator!\n",
      "Hello world! "
     ]
    }
   ],
   "source": [
    "values = ['Hello', 'world!']\n",
    "\n",
    "def foo(x):\n",
    "    print('I am the generator!')\n",
    "    for value in x:\n",
    "        yield value\n",
    "        \n",
    "for value in foo(values):\n",
    "    print(value, end=' ')"
   ]
  },
  {
   "cell_type": "markdown",
   "metadata": {
    "slideshow": {
     "slide_type": "subslide"
    }
   },
   "source": [
    "#### Кубы натуральных чисел"
   ]
  },
  {
   "cell_type": "code",
   "execution_count": 62,
   "metadata": {
    "slideshow": {
     "slide_type": "-"
    }
   },
   "outputs": [
    {
     "name": "stdout",
     "output_type": "stream",
     "text": [
      "0 1 8 27 64 125 216 343 512 729 "
     ]
    }
   ],
   "source": [
    "def cubes(x):\n",
    "    for value in x:\n",
    "        yield value ** 3\n",
    "        \n",
    "for value in cubes(range(10)):\n",
    "    print(value, end=' ')"
   ]
  },
  {
   "cell_type": "markdown",
   "metadata": {},
   "source": [
    "Генератор может быть бесконечным"
   ]
  },
  {
   "cell_type": "code",
   "execution_count": 65,
   "metadata": {},
   "outputs": [
    {
     "name": "stdout",
     "output_type": "stream",
     "text": [
      "0 1 8 27 64 125 "
     ]
    }
   ],
   "source": [
    "def cubes():\n",
    "    i = 0\n",
    "    while True:\n",
    "        yield i ** 3\n",
    "        i += 1\n",
    "        \n",
    "for value in cubes():\n",
    "    print(value, end=' ')\n",
    "    \n",
    "    if value > 100:\n",
    "        break"
   ]
  },
  {
   "cell_type": "markdown",
   "metadata": {
    "slideshow": {
     "slide_type": "subslide"
    }
   },
   "source": [
    "#### Минизадача 1\n",
    "Написать генератор **limit(generator, max_count)**. <br>\n",
    "Возвращает не более **max_count** значений генератора **generator**."
   ]
  },
  {
   "cell_type": "code",
   "execution_count": 68,
   "metadata": {
    "slideshow": {
     "slide_type": "skip"
    }
   },
   "outputs": [],
   "source": [
    "def limit(gen, lim):\n",
    "    count = 0\n",
    "    for val in gen:\n",
    "        yield val\n",
    "        count += 1\n",
    "        if count >= lim:\n",
    "            break"
   ]
  },
  {
   "cell_type": "code",
   "execution_count": 69,
   "metadata": {},
   "outputs": [
    {
     "name": "stdout",
     "output_type": "stream",
     "text": [
      "0 1 8 27 64 125 216 343 512 729 "
     ]
    }
   ],
   "source": [
    "for value in limit(cubes(), 10):\n",
    "    print(value, end=' ')"
   ]
  },
  {
   "cell_type": "markdown",
   "metadata": {},
   "source": [
    "#### Минизадача 2\n",
    "Написать генератор **all_elements(list)**.<br>\n",
    "Возвращает все элементы списка **list** любой вложенности."
   ]
  },
  {
   "cell_type": "code",
   "execution_count": 73,
   "metadata": {
    "slideshow": {
     "slide_type": "skip"
    }
   },
   "outputs": [],
   "source": [
    "from collections.abc import Iterable\n",
    "\n",
    "def all_elements(x):\n",
    "    if not isinstance(x, Iterable):\n",
    "        yield x\n",
    "    else:\n",
    "        for val in x:\n",
    "            for element in all_elements(val):\n",
    "                yield element"
   ]
  },
  {
   "cell_type": "code",
   "execution_count": 77,
   "metadata": {},
   "outputs": [
    {
     "name": "stdout",
     "output_type": "stream",
     "text": [
      "1 2 3 4 5 6 7 8 "
     ]
    }
   ],
   "source": [
    "values = [1, [2, 3], [4, [5, 6], [[[7]]]], 8]\n",
    "for value in all_elements(values):\n",
    "    print(value, end=' ')"
   ]
  },
  {
   "cell_type": "markdown",
   "metadata": {
    "slideshow": {
     "slide_type": "skip"
    }
   },
   "source": [
    "Указание: для проверки того, что объект итерируемый, можно проверить, что он наследник Iterable"
   ]
  },
  {
   "cell_type": "code",
   "execution_count": null,
   "metadata": {},
   "outputs": [],
   "source": [
    "from collections.abc import Iterable\n",
    "\n",
    "if isinstance(e, Iterable):\n",
    "    # e is iterable"
   ]
  },
  {
   "cell_type": "markdown",
   "metadata": {
    "slideshow": {
     "slide_type": "slide"
    }
   },
   "source": [
    "## Анонимные функции"
   ]
  },
  {
   "cell_type": "code",
   "execution_count": 175,
   "metadata": {},
   "outputs": [
    {
     "data": {
      "text/plain": [
       "<function __main__.<lambda>>"
      ]
     },
     "execution_count": 175,
     "metadata": {},
     "output_type": "execute_result"
    }
   ],
   "source": [
    "lambda x : print(x)"
   ]
  },
  {
   "cell_type": "code",
   "execution_count": 174,
   "metadata": {},
   "outputs": [
    {
     "data": {
      "text/plain": [
       "[0, 1, 4, 9, 16, 25, 36, 49, 64, 81]"
      ]
     },
     "execution_count": 174,
     "metadata": {},
     "output_type": "execute_result"
    }
   ],
   "source": [
    "list(map(lambda x : x ** 2, range(10)))"
   ]
  },
  {
   "cell_type": "code",
   "execution_count": 176,
   "metadata": {},
   "outputs": [
    {
     "data": {
      "text/plain": [
       "[4, 3, 2, 1]"
      ]
     },
     "execution_count": 176,
     "metadata": {},
     "output_type": "execute_result"
    }
   ],
   "source": [
    "sorted([1, 2, 3, 4], key = lambda x : 1 / x)"
   ]
  },
  {
   "cell_type": "markdown",
   "metadata": {
    "slideshow": {
     "slide_type": "slide"
    }
   },
   "source": [
    "## Аттрибуты"
   ]
  },
  {
   "cell_type": "code",
   "execution_count": 7,
   "metadata": {},
   "outputs": [
    {
     "name": "stdout",
     "output_type": "stream",
     "text": [
      "['__annotations__', '__call__', '__class__', '__closure__', '__code__', '__defaults__', '__delattr__', '__dict__', '__dir__', '__doc__', '__eq__', '__format__', '__ge__', '__get__', '__getattribute__', '__globals__', '__gt__', '__hash__', '__init__', '__init_subclass__', '__kwdefaults__', '__le__', '__lt__', '__module__', '__name__', '__ne__', '__new__', '__qualname__', '__reduce__', '__reduce_ex__', '__repr__', '__setattr__', '__sizeof__', '__str__', '__subclasshook__']\n",
      "foo\n",
      "Function which prints arguments.\n",
      "__main__\n"
     ]
    }
   ],
   "source": [
    "def foo(*args, **kwargs):\n",
    "    'Function which prints arguments.'\n",
    "    print('args =', args, 'kwargs =', kwargs)\n",
    "\n",
    "print(dir(foo))\n",
    "print(foo.__name__)\n",
    "print(foo.__doc__)\n",
    "print(foo.__module__)"
   ]
  },
  {
   "cell_type": "markdown",
   "metadata": {
    "slideshow": {
     "slide_type": "subslide"
    }
   },
   "source": [
    "#### Аттрибуты можно использовать как статические переменные"
   ]
  },
  {
   "cell_type": "code",
   "execution_count": 8,
   "metadata": {},
   "outputs": [
    {
     "name": "stdout",
     "output_type": "stream",
     "text": [
      "1\n",
      "2\n",
      "3\n",
      "get_next_id.value = 3\n"
     ]
    }
   ],
   "source": [
    "def get_next_id():\n",
    "    if not hasattr(get_next_id, 'value'):\n",
    "        get_next_id.value = 0\n",
    "    \n",
    "    get_next_id.value += 1\n",
    "    return get_next_id.value\n",
    "\n",
    "print(get_next_id())\n",
    "print(get_next_id())\n",
    "print(get_next_id())\n",
    "print('get_next_id.value =', get_next_id.value)"
   ]
  },
  {
   "cell_type": "markdown",
   "metadata": {
    "slideshow": {
     "slide_type": "subslide"
    }
   },
   "source": [
    "#### Где хранятся аргументы по умолчанию?"
   ]
  },
  {
   "cell_type": "code",
   "execution_count": 17,
   "metadata": {},
   "outputs": [
    {
     "name": "stdout",
     "output_type": "stream",
     "text": [
      "Defaults:  ('Hello', 1)\n",
      "Hello 1\n",
      "Defaults:  ('Hello', 'world!')\n",
      "Hello world!\n"
     ]
    }
   ],
   "source": [
    "def foo(a = 'Hello', b = 1):\n",
    "    print(a, b)\n",
    "\n",
    "print('Defaults: ', foo.__defaults__)\n",
    "foo()\n",
    "\n",
    "foo.__defaults__ = ('Hello', 'world!')\n",
    "print('Defaults: ', foo.__defaults__)\n",
    "foo()"
   ]
  },
  {
   "cell_type": "markdown",
   "metadata": {
    "slideshow": {
     "slide_type": "subslide"
    }
   },
   "source": [
    "#### Почему не стоит использовать mutable аргументы по умолчанию"
   ]
  },
  {
   "cell_type": "code",
   "execution_count": 22,
   "metadata": {},
   "outputs": [
    {
     "name": "stdout",
     "output_type": "stream",
     "text": [
      "Hello\n",
      "Hello the\n",
      "Hello the wonderful\n",
      "Hello the wonderful world!\n"
     ]
    }
   ],
   "source": [
    "def foo(a, b = []):\n",
    "    b.append(a)\n",
    "    print(*b)\n",
    "    \n",
    "foo('Hello')\n",
    "foo('the')\n",
    "foo('wonderful')\n",
    "foo('world!')"
   ]
  },
  {
   "cell_type": "markdown",
   "metadata": {
    "slideshow": {
     "slide_type": "slide"
    }
   },
   "source": [
    "# Пространства имен [Namespaces]\n",
    "\n",
    "Пространство имён -- мэппинг из имен переменных в объекты."
   ]
  },
  {
   "cell_type": "markdown",
   "metadata": {},
   "source": [
    "**locals()** - возвращает текущий namespace в виде словаря <br>\n",
    "**globals()** - возвращает namespace модуля"
   ]
  },
  {
   "cell_type": "code",
   "execution_count": 5,
   "metadata": {},
   "outputs": [
    {
     "data": {
      "text/plain": [
       "True"
      ]
     },
     "execution_count": 5,
     "metadata": {},
     "output_type": "execute_result"
    }
   ],
   "source": [
    "locals() is globals()"
   ]
  },
  {
   "cell_type": "code",
   "execution_count": 44,
   "metadata": {},
   "outputs": [
    {
     "name": "stdout",
     "output_type": "stream",
     "text": [
      "42\n",
      "100500\n"
     ]
    }
   ],
   "source": [
    "value = 42\n",
    "print(globals()['value'])\n",
    "\n",
    "globals()['value'] = 100500\n",
    "print(value)"
   ]
  },
  {
   "cell_type": "markdown",
   "metadata": {
    "slideshow": {
     "slide_type": "subslide"
    }
   },
   "source": [
    "#### Циклы и условия не создают своё пространство имён"
   ]
  },
  {
   "cell_type": "code",
   "execution_count": 2,
   "metadata": {},
   "outputs": [
    {
     "name": "stdout",
     "output_type": "stream",
     "text": [
      "0\n",
      "1\n",
      "2\n"
     ]
    }
   ],
   "source": [
    "if (True):\n",
    "    value_assigned_in_if = 1\n",
    "    \n",
    "for loop_counter in range(1):\n",
    "    value_assigned_in_for = 2\n",
    "    \n",
    "print(loop_counter)\n",
    "print(value_assigned_in_if)\n",
    "print(value_assigned_in_for)"
   ]
  },
  {
   "cell_type": "markdown",
   "metadata": {
    "slideshow": {
     "slide_type": "subslide"
    }
   },
   "source": [
    "#### Функции создают своё пространство имён"
   ]
  },
  {
   "cell_type": "code",
   "execution_count": 52,
   "metadata": {},
   "outputs": [
    {
     "name": "stdout",
     "output_type": "stream",
     "text": [
      "1\n",
      "locals: 1\n",
      "globals: 0\n",
      "0\n"
     ]
    }
   ],
   "source": [
    "value = 0\n",
    "\n",
    "def foo():\n",
    "    value = 1\n",
    "    print(value)\n",
    "    \n",
    "    print('locals:', locals()['value'])\n",
    "    print('globals:', globals()['value'])\n",
    "    \n",
    "foo()\n",
    "print(value)"
   ]
  },
  {
   "cell_type": "markdown",
   "metadata": {
    "slideshow": {
     "slide_type": "slide"
    }
   },
   "source": [
    "### Область видимости (scope)\n",
    "\n",
    "Правило LEGB:\n",
    "1. Local - имена, определенные внутри функции (и не помеченные global)\n",
    "2. Enclosing-function locals - имена в области видимости всех оборачивающих (enclosing) функций, в порядке уменьшения глубины\n",
    "3. Global - имена, определенные на уровне модуля или посредством global\n",
    "4. Built-in - предопределенные (range, open, ...)"
   ]
  },
  {
   "cell_type": "code",
   "execution_count": 14,
   "metadata": {
    "slideshow": {
     "slide_type": "-"
    }
   },
   "outputs": [
    {
     "name": "stdout",
     "output_type": "stream",
     "text": [
      "enclosing scope value 2\n",
      "global value 1\n"
     ]
    }
   ],
   "source": [
    "value = 1\n",
    "\n",
    "def foo():\n",
    "    value = 2\n",
    "    \n",
    "    def bar():\n",
    "        value = 3\n",
    "    \n",
    "    bar()\n",
    "    print('enclosing scope value', value)\n",
    "    \n",
    "foo()\n",
    "print('global value', value)"
   ]
  },
  {
   "cell_type": "markdown",
   "metadata": {
    "slideshow": {
     "slide_type": "skip"
    }
   },
   "source": [
    "#### Пример LEGB"
   ]
  },
  {
   "cell_type": "code",
   "execution_count": 7,
   "metadata": {
    "slideshow": {
     "slide_type": "subslide"
    }
   },
   "outputs": [
    {
     "name": "stdout",
     "output_type": "stream",
     "text": [
      "built-in: <class 'range'>\n",
      "global: global range\n",
      "enclosing-function: enclosing-function range\n",
      "local: local range\n"
     ]
    }
   ],
   "source": [
    "def foo():\n",
    "    def bar():\n",
    "        print('built-in:', range)\n",
    "    bar()\n",
    "foo()\n",
    "\n",
    "range = 'global range'\n",
    "\n",
    "def foo():\n",
    "    def bar():\n",
    "        print('global:', range)\n",
    "    bar()\n",
    "foo()\n",
    "        \n",
    "def foo():\n",
    "    range = 'enclosing-function range'\n",
    "    def bar():\n",
    "        print('enclosing-function:', range)\n",
    "    bar()\n",
    "foo()\n",
    "\n",
    "def foo():\n",
    "    range = 'enclosing-function range'\n",
    "    def bar():\n",
    "        range = 'local range'\n",
    "        print('local:', range)\n",
    "    bar()\n",
    "foo()"
   ]
  },
  {
   "cell_type": "markdown",
   "metadata": {
    "slideshow": {
     "slide_type": "slide"
    }
   },
   "source": [
    "### Ключевое слово global"
   ]
  },
  {
   "cell_type": "code",
   "execution_count": 16,
   "metadata": {},
   "outputs": [
    {
     "name": "stdout",
     "output_type": "stream",
     "text": [
      "enclosing scope value 2\n",
      "global value 3\n"
     ]
    }
   ],
   "source": [
    "value = 1\n",
    "\n",
    "def foo():\n",
    "    value = 2\n",
    "    \n",
    "    def bar():\n",
    "        global value\n",
    "        value = 3\n",
    "    \n",
    "    bar()\n",
    "    print('enclosing scope value', value)\n",
    "    \n",
    "foo()\n",
    "print('global value', value)"
   ]
  },
  {
   "cell_type": "markdown",
   "metadata": {
    "slideshow": {
     "slide_type": "subslide"
    }
   },
   "source": [
    "### Ключевое слово nonlocal"
   ]
  },
  {
   "cell_type": "code",
   "execution_count": 17,
   "metadata": {},
   "outputs": [
    {
     "name": "stdout",
     "output_type": "stream",
     "text": [
      "enclosing scope value 3\n",
      "global value 1\n"
     ]
    }
   ],
   "source": [
    "value = 1\n",
    "\n",
    "def foo():\n",
    "    value = 2\n",
    "    \n",
    "    def bar():\n",
    "        nonlocal value\n",
    "        value = 3\n",
    "    \n",
    "    bar()\n",
    "    print('enclosing scope value', value)\n",
    "    \n",
    "foo()\n",
    "print('global value', value)"
   ]
  },
  {
   "cell_type": "markdown",
   "metadata": {
    "slideshow": {
     "slide_type": "subslide"
    }
   },
   "source": [
    "Пространства имён в python *статические* <br>\n",
    "Определение любого используемого в коде обьекта можно найти без запуска программы."
   ]
  },
  {
   "cell_type": "code",
   "execution_count": 8,
   "metadata": {},
   "outputs": [
    {
     "ename": "NameError",
     "evalue": "free variable 'value' referenced before assignment in enclosing scope",
     "output_type": "error",
     "traceback": [
      "\u001b[0;31m---------------------------------------------------------------------------\u001b[0m",
      "\u001b[0;31mNameError\u001b[0m                                 Traceback (most recent call last)",
      "\u001b[0;32m<ipython-input-8-4959e43b3f81>\u001b[0m in \u001b[0;36m<module>\u001b[0;34m\u001b[0m\n\u001b[1;32m      8\u001b[0m     \u001b[0mvalue\u001b[0m \u001b[0;34m=\u001b[0m \u001b[0;36m2\u001b[0m\u001b[0;34m\u001b[0m\u001b[0;34m\u001b[0m\u001b[0m\n\u001b[1;32m      9\u001b[0m \u001b[0;34m\u001b[0m\u001b[0m\n\u001b[0;32m---> 10\u001b[0;31m \u001b[0mfoo\u001b[0m\u001b[0;34m(\u001b[0m\u001b[0;34m)\u001b[0m\u001b[0;34m\u001b[0m\u001b[0;34m\u001b[0m\u001b[0m\n\u001b[0m",
      "\u001b[0;32m<ipython-input-8-4959e43b3f81>\u001b[0m in \u001b[0;36mfoo\u001b[0;34m()\u001b[0m\n\u001b[1;32m      5\u001b[0m         \u001b[0mprint\u001b[0m\u001b[0;34m(\u001b[0m\u001b[0mvalue\u001b[0m\u001b[0;34m)\u001b[0m\u001b[0;34m\u001b[0m\u001b[0;34m\u001b[0m\u001b[0m\n\u001b[1;32m      6\u001b[0m \u001b[0;34m\u001b[0m\u001b[0m\n\u001b[0;32m----> 7\u001b[0;31m     \u001b[0mbar\u001b[0m\u001b[0;34m(\u001b[0m\u001b[0;34m)\u001b[0m\u001b[0;34m\u001b[0m\u001b[0;34m\u001b[0m\u001b[0m\n\u001b[0m\u001b[1;32m      8\u001b[0m     \u001b[0mvalue\u001b[0m \u001b[0;34m=\u001b[0m \u001b[0;36m2\u001b[0m\u001b[0;34m\u001b[0m\u001b[0;34m\u001b[0m\u001b[0m\n\u001b[1;32m      9\u001b[0m \u001b[0;34m\u001b[0m\u001b[0m\n",
      "\u001b[0;32m<ipython-input-8-4959e43b3f81>\u001b[0m in \u001b[0;36mbar\u001b[0;34m()\u001b[0m\n\u001b[1;32m      3\u001b[0m \u001b[0;32mdef\u001b[0m \u001b[0mfoo\u001b[0m\u001b[0;34m(\u001b[0m\u001b[0;34m)\u001b[0m\u001b[0;34m:\u001b[0m\u001b[0;34m\u001b[0m\u001b[0;34m\u001b[0m\u001b[0m\n\u001b[1;32m      4\u001b[0m     \u001b[0;32mdef\u001b[0m \u001b[0mbar\u001b[0m\u001b[0;34m(\u001b[0m\u001b[0;34m)\u001b[0m\u001b[0;34m:\u001b[0m\u001b[0;34m\u001b[0m\u001b[0;34m\u001b[0m\u001b[0m\n\u001b[0;32m----> 5\u001b[0;31m         \u001b[0mprint\u001b[0m\u001b[0;34m(\u001b[0m\u001b[0mvalue\u001b[0m\u001b[0;34m)\u001b[0m\u001b[0;34m\u001b[0m\u001b[0;34m\u001b[0m\u001b[0m\n\u001b[0m\u001b[1;32m      6\u001b[0m \u001b[0;34m\u001b[0m\u001b[0m\n\u001b[1;32m      7\u001b[0m     \u001b[0mbar\u001b[0m\u001b[0;34m(\u001b[0m\u001b[0;34m)\u001b[0m\u001b[0;34m\u001b[0m\u001b[0;34m\u001b[0m\u001b[0m\n",
      "\u001b[0;31mNameError\u001b[0m: free variable 'value' referenced before assignment in enclosing scope"
     ]
    }
   ],
   "source": [
    "value = 1\n",
    "\n",
    "def foo():\n",
    "    def bar():\n",
    "        print(value)\n",
    "    \n",
    "    bar()\n",
    "    value = 2\n",
    "    \n",
    "foo()"
   ]
  },
  {
   "cell_type": "markdown",
   "metadata": {
    "slideshow": {
     "slide_type": "slide"
    }
   },
   "source": [
    "# Замыкания [Closures]\n",
    "*In computer programming languages, a closure is a function together with a referencing environment of that function. A closure function is any function that uses a variable that is defined in an environment (or scope) that is external to that function, and is accessible within the function when invoked from a scope in which that free variable is not defined.*\n",
    "\n",
    "Существования замыканий следует из правила LEGB, возможности оперировать с функциями как обьектами и того что области видимости в Питоне - статические."
   ]
  },
  {
   "cell_type": "code",
   "execution_count": 20,
   "metadata": {},
   "outputs": [
    {
     "name": "stdout",
     "output_type": "stream",
     "text": [
      "7\n",
      "9\n"
     ]
    }
   ],
   "source": [
    "def make_adder(x):\n",
    "    def adder(y):\n",
    "        return x + y\n",
    "    return adder\n",
    "\n",
    "add_two = make_adder(2)\n",
    "\n",
    "print(add_two(5))\n",
    "print(add_two(7))"
   ]
  },
  {
   "cell_type": "markdown",
   "metadata": {
    "slideshow": {
     "slide_type": "subslide"
    }
   },
   "source": [
    "#### Функции могут замыкать одинаковые переменные"
   ]
  },
  {
   "cell_type": "code",
   "execution_count": 3,
   "metadata": {
    "slideshow": {
     "slide_type": "-"
    }
   },
   "outputs": [
    {
     "name": "stdout",
     "output_type": "stream",
     "text": [
      "10\n",
      "20\n"
     ]
    }
   ],
   "source": [
    "def cell(value = 0):\n",
    "    def get():\n",
    "        return value\n",
    "    \n",
    "    def set(new_value):\n",
    "        nonlocal value\n",
    "        value = new_value\n",
    "        return value\n",
    "    \n",
    "    return get, set\n",
    "\n",
    "get, set = cell(10)\n",
    "print(get())\n",
    "\n",
    "set(20)\n",
    "print(get())"
   ]
  },
  {
   "cell_type": "markdown",
   "metadata": {
    "slideshow": {
     "slide_type": "subslide"
    }
   },
   "source": [
    "#### Посмотрим, что внутри замыкания"
   ]
  },
  {
   "cell_type": "code",
   "execution_count": 21,
   "metadata": {},
   "outputs": [
    {
     "name": "stdout",
     "output_type": "stream",
     "text": [
      "(<cell at 0x7fe5c4537fa8: int object at 0x55de80cd65e0>,)\n",
      "20\n"
     ]
    }
   ],
   "source": [
    "print(get.__closure__)\n",
    "print(repr(get.__closure__[0].cell_contents))"
   ]
  },
  {
   "cell_type": "markdown",
   "metadata": {},
   "source": [
    "**\\_\\_closure\\_\\_** &mdash; список замкнутых переменных.<br>\n",
    "Переменная представлена в виде класса **cell** с единственным полем **cell_contents**"
   ]
  },
  {
   "cell_type": "code",
   "execution_count": 30,
   "metadata": {},
   "outputs": [
    {
     "name": "stdout",
     "output_type": "stream",
     "text": [
      "True\n",
      "True\n"
     ]
    }
   ],
   "source": [
    "print(get.__closure__ == set.__closure__)\n",
    "print(get.__closure__[0] is set.__closure__[0])"
   ]
  },
  {
   "cell_type": "markdown",
   "metadata": {
    "slideshow": {
     "slide_type": "slide"
    }
   },
   "source": [
    "# Декораторы\n",
    "\n",
    "Замыкания как способ быстро изменить поведение функции"
   ]
  },
  {
   "cell_type": "code",
   "execution_count": 31,
   "metadata": {},
   "outputs": [
    {
     "name": "stdout",
     "output_type": "stream",
     "text": [
      "[1, 2, 3]\n"
     ]
    },
    {
     "name": "stderr",
     "output_type": "stream",
     "text": [
      "print is deprecated\n"
     ]
    }
   ],
   "source": [
    "import sys\n",
    "\n",
    "def deprecate(func):\n",
    "    def inner(*args, **kwargs):\n",
    "        print('{} is deprecated'.format(func.__name__), file=sys.stderr)\n",
    "        return func(*args, **kwargs)\n",
    "    return inner\n",
    "\n",
    "pprint = deprecate(print)\n",
    "\n",
    "pprint([1, 2, 3])"
   ]
  },
  {
   "cell_type": "markdown",
   "metadata": {
    "slideshow": {
     "slide_type": "subslide"
    }
   },
   "source": [
    "### Наблюдение"
   ]
  },
  {
   "cell_type": "code",
   "execution_count": 32,
   "metadata": {},
   "outputs": [
    {
     "name": "stdout",
     "output_type": "stream",
     "text": [
      "[1, 2, 3]\n"
     ]
    },
    {
     "name": "stderr",
     "output_type": "stream",
     "text": [
      "show is deprecated\n"
     ]
    }
   ],
   "source": [
    "import sys\n",
    "\n",
    "def deprecated(func):\n",
    "    def wrapper(*args, **kwargs):\n",
    "        print('{} is deprecated'.format(func.__name__), file=sys.stderr)\n",
    "        return func(*args, **kwargs)\n",
    "    return wrapper\n",
    "\n",
    "@deprecated\n",
    "def show(x):\n",
    "    print(x)\n",
    "\n",
    "show([1, 2, 3])"
   ]
  },
  {
   "cell_type": "markdown",
   "metadata": {
    "slideshow": {
     "slide_type": "subslide"
    }
   },
   "source": [
    "### Проблема"
   ]
  },
  {
   "cell_type": "code",
   "execution_count": 33,
   "metadata": {},
   "outputs": [
    {
     "name": "stdout",
     "output_type": "stream",
     "text": [
      "wrapper\n",
      "None\n"
     ]
    }
   ],
   "source": [
    "@deprecated\n",
    "def show(x):\n",
    "    'This is a really nice looking docstring'\n",
    "    print(x)\n",
    "\n",
    "print(show.__name__)\n",
    "print(show.__doc__)"
   ]
  },
  {
   "cell_type": "markdown",
   "metadata": {
    "slideshow": {
     "slide_type": "subslide"
    }
   },
   "source": [
    "### Решение 1"
   ]
  },
  {
   "cell_type": "code",
   "execution_count": 34,
   "metadata": {},
   "outputs": [
    {
     "name": "stdout",
     "output_type": "stream",
     "text": [
      "show\n",
      "This is a really nice looking docstring\n"
     ]
    }
   ],
   "source": [
    "def deprecated(func):\n",
    "    def wrapper(*args, **kwargs):\n",
    "        print('{} is deprecated!'.format(func.__name__), file=sys.stderr)\n",
    "        return func(*args, **kwargs)\n",
    "    wrapper.__name__ = func.__name__\n",
    "    wrapper.__doc__ = func.__doc__\n",
    "    wrapper.__module__ = func.__module__\n",
    "    return wrapper\n",
    "\n",
    "@deprecated\n",
    "def show(x):\n",
    "    'This is a really nice looking docstring'\n",
    "    print(x)\n",
    "\n",
    "print(show.__name__)\n",
    "print(show.__doc__)"
   ]
  },
  {
   "cell_type": "markdown",
   "metadata": {
    "slideshow": {
     "slide_type": "subslide"
    }
   },
   "source": [
    "### Решение 2"
   ]
  },
  {
   "cell_type": "code",
   "execution_count": 35,
   "metadata": {},
   "outputs": [
    {
     "name": "stdout",
     "output_type": "stream",
     "text": [
      "show\n",
      "This is a really nice looking docstring\n"
     ]
    }
   ],
   "source": [
    "import functools\n",
    "\n",
    "def deprecated(func):\n",
    "    @functools.wraps(func) \n",
    "    def wrapper(*args, **kwargs):\n",
    "        print('{} is deprecated!'.format(func.__name__), file=sys.stderr)\n",
    "        return func(*args, **kwargs)\n",
    "    return wrapper\n",
    "\n",
    "@deprecated\n",
    "def show(x):\n",
    "    'This is a really nice looking docstring'\n",
    "    print(x)\n",
    "\n",
    "print(show.__name__)\n",
    "print(show.__doc__)"
   ]
  },
  {
   "cell_type": "markdown",
   "metadata": {
    "slideshow": {
     "slide_type": "slide"
    }
   },
   "source": [
    "### Декораторы с аргументами"
   ]
  },
  {
   "cell_type": "code",
   "execution_count": 37,
   "metadata": {
    "slideshow": {
     "slide_type": "-"
    }
   },
   "outputs": [
    {
     "name": "stdout",
     "output_type": "stream",
     "text": [
      "f called with args ('Hi!',), kwargs {'test': 42}!\n",
      "f called with args ('Hi!', 21.0), kwargs {}!\n",
      "f called with args ('Hi!', 10.5), kwargs {}!\n",
      "f called with args ('Hi!', 5.25), kwargs {}!\n",
      "f called with args ('Hi!', 2.625), kwargs {}!\n",
      "f called with args ('Hi!', 1.3125), kwargs {}!\n",
      "f called with args ('Hi!', 0.65625), kwargs {}!\n"
     ]
    }
   ],
   "source": [
    "def trace(dest=sys.stderr):\n",
    "    def wraps(func):\n",
    "        @functools.wraps(func)\n",
    "        def wrapper(*args, **kwargs):\n",
    "            print('{} called with args {}, kwargs {}!'.format(func.__name__, args, kwargs), file = dest)\n",
    "            return func(*args, **kwargs)\n",
    "        return wrapper\n",
    "    return wraps\n",
    "\n",
    "@trace(sys.stdout) \n",
    "def f(x, test):\n",
    "    if test > 1:\n",
    "        return f(x, test / 2)\n",
    "\n",
    "f('Hi!', test=42)"
   ]
  },
  {
   "cell_type": "markdown",
   "metadata": {
    "slideshow": {
     "slide_type": "subslide"
    }
   },
   "source": [
    "#### Минизадача\n",
    "Написать декоратор **once(function)**.<br>\n",
    "Декоратор вызывает функцию только один раз."
   ]
  },
  {
   "cell_type": "code",
   "execution_count": 85,
   "metadata": {},
   "outputs": [
    {
     "name": "stdout",
     "output_type": "stream",
     "text": [
      "Hi!\n"
     ]
    }
   ],
   "source": [
    "@once\n",
    "def foo():\n",
    "    print('Hi!')\n",
    "\n",
    "foo()\n",
    "foo()"
   ]
  },
  {
   "cell_type": "code",
   "execution_count": 83,
   "metadata": {
    "slideshow": {
     "slide_type": "subslide"
    }
   },
   "outputs": [
    {
     "name": "stdout",
     "output_type": "stream",
     "text": [
      "Hi!\n"
     ]
    }
   ],
   "source": [
    "def once(func):\n",
    "    def wrapper(*args, **kwargs):\n",
    "        nonlocal called\n",
    "        if not called:\n",
    "            called = True\n",
    "            return func(*args, **kwargs)\n",
    "\n",
    "    called = False\n",
    "    return wrapper\n",
    "\n",
    "@once\n",
    "def f():\n",
    "    print('Hi!')\n",
    "\n",
    "f()\n",
    "f()"
   ]
  },
  {
   "cell_type": "markdown",
   "metadata": {
    "slideshow": {
     "slide_type": "skip"
    }
   },
   "source": [
    "### Декораторам необязательно быть функциями"
   ]
  },
  {
   "cell_type": "code",
   "execution_count": 39,
   "metadata": {
    "slideshow": {
     "slide_type": "skip"
    }
   },
   "outputs": [],
   "source": [
    "from collections import Counter \n",
    "\n",
    "class Register(object):\n",
    "    def __init__(self):\n",
    "        self.stat = Counter()\n",
    "        \n",
    "    def __call__(self, func):\n",
    "        nm = func.__name__\n",
    "        def wrapper(*args, **kwrags):\n",
    "            self.stat[nm] += 1\n",
    "            return func(*args, **kwrags)\n",
    "        return wrapper\n",
    "    \n",
    "    def __str__(self):\n",
    "        result = 'fname\\tcallcount\\n'\n",
    "        for name, count in self.stat.items():\n",
    "            result += '{}:\\t{}\\n'.format(name, count)\n",
    "        return result\n",
    "    \n",
    "register = Register()"
   ]
  },
  {
   "cell_type": "code",
   "execution_count": 40,
   "metadata": {
    "slideshow": {
     "slide_type": "skip"
    }
   },
   "outputs": [
    {
     "name": "stdout",
     "output_type": "stream",
     "text": [
      "fname\tcallcount\n",
      "f:\t2\n",
      "q:\t3\n",
      "\n"
     ]
    }
   ],
   "source": [
    "\n",
    "@register\n",
    "def f(x):\n",
    "    return x \n",
    "\n",
    "@register\n",
    "def q(x):\n",
    "    return q\n",
    "\n",
    "f(1), q(2), q(4)\n",
    "q(2), f(5)\n",
    "print(register)"
   ]
  }
 ],
 "metadata": {
  "celltoolbar": "Slideshow",
  "kernelspec": {
   "display_name": "Python 3",
   "language": "python",
   "name": "python3"
  },
  "language_info": {
   "codemirror_mode": {
    "name": "ipython",
    "version": 3
   },
   "file_extension": ".py",
   "mimetype": "text/x-python",
   "name": "python",
   "nbconvert_exporter": "python",
   "pygments_lexer": "ipython3",
   "version": "3.5.2"
  }
 },
 "nbformat": 4,
 "nbformat_minor": 2
}
